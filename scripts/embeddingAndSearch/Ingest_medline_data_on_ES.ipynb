{
 "cells": [
  {
   "cell_type": "code",
   "execution_count": 9,
   "id": "96d65c50",
   "metadata": {},
   "outputs": [],
   "source": [
    "from elasticsearch import Elasticsearch\n",
    "import pandas as pd"
   ]
  },
  {
   "cell_type": "markdown",
   "id": "2b4aefa7",
   "metadata": {},
   "source": [
    "### Import sentence transformer model"
   ]
  },
  {
   "cell_type": "code",
   "execution_count": 10,
   "id": "5e080876",
   "metadata": {},
   "outputs": [],
   "source": [
    "from sentence_transformers import SentenceTransformer\n",
    "model = SentenceTransformer('sentence-transformers/msmarco-MiniLM-L-12-v3')\n",
    "query_embedding = model.encode(\"What are results of combining two or more drugs?\")\n",
    "#print(query_embedding)"
   ]
  },
  {
   "cell_type": "code",
   "execution_count": 11,
   "id": "36107e15",
   "metadata": {
    "scrolled": true
   },
   "outputs": [],
   "source": [
    "df = pd.read_json('../data/pubmed23n0001.json')\n",
    "#pmids=df[:1000][\"pmid\"]"
   ]
  },
  {
   "cell_type": "markdown",
   "id": "95903fed",
   "metadata": {},
   "source": [
    "### Create dataframe for 1000 abstracts"
   ]
  },
  {
   "cell_type": "code",
   "execution_count": 12,
   "id": "3d3a6d43",
   "metadata": {},
   "outputs": [
    {
     "data": {
      "text/html": [
       "<div>\n",
       "<style scoped>\n",
       "    .dataframe tbody tr th:only-of-type {\n",
       "        vertical-align: middle;\n",
       "    }\n",
       "\n",
       "    .dataframe tbody tr th {\n",
       "        vertical-align: top;\n",
       "    }\n",
       "\n",
       "    .dataframe thead th {\n",
       "        text-align: right;\n",
       "    }\n",
       "</style>\n",
       "<table border=\"1\" class=\"dataframe\">\n",
       "  <thead>\n",
       "    <tr style=\"text-align: right;\">\n",
       "      <th></th>\n",
       "      <th>pmid</th>\n",
       "      <th>abstract</th>\n",
       "    </tr>\n",
       "  </thead>\n",
       "  <tbody>\n",
       "    <tr>\n",
       "      <th>995</th>\n",
       "      <td>996</td>\n",
       "      <td>The pH-dependence of the kinetic parameters fo...</td>\n",
       "    </tr>\n",
       "    <tr>\n",
       "      <th>996</th>\n",
       "      <td>997</td>\n",
       "      <td>An enzyme system from Datura innoxia roots oxi...</td>\n",
       "    </tr>\n",
       "    <tr>\n",
       "      <th>997</th>\n",
       "      <td>998</td>\n",
       "      <td>1. 2-Oxoaldehyde dehydrogenase was purified fr...</td>\n",
       "    </tr>\n",
       "    <tr>\n",
       "      <th>998</th>\n",
       "      <td>999</td>\n",
       "      <td>A number of parameters affecting the adsorptio...</td>\n",
       "    </tr>\n",
       "    <tr>\n",
       "      <th>999</th>\n",
       "      <td>1000</td>\n",
       "      <td>The NADP-specific glutamate dehydrogenase of N...</td>\n",
       "    </tr>\n",
       "  </tbody>\n",
       "</table>\n",
       "</div>"
      ],
      "text/plain": [
       "     pmid                                           abstract\n",
       "995   996  The pH-dependence of the kinetic parameters fo...\n",
       "996   997  An enzyme system from Datura innoxia roots oxi...\n",
       "997   998  1. 2-Oxoaldehyde dehydrogenase was purified fr...\n",
       "998   999  A number of parameters affecting the adsorptio...\n",
       "999  1000  The NADP-specific glutamate dehydrogenase of N..."
      ]
     },
     "execution_count": 12,
     "metadata": {},
     "output_type": "execute_result"
    }
   ],
   "source": [
    "df_abstracts = df[['pmid', 'abstract']].copy()\n",
    "df_abstracts=df_abstracts[0:1000]\n",
    "df_abstracts.tail()"
   ]
  },
  {
   "cell_type": "code",
   "execution_count": 5,
   "id": "bc92a213",
   "metadata": {},
   "outputs": [],
   "source": [
    "#df_abstracts[df_abstracts[\"abstract\"]!=\"\"]"
   ]
  },
  {
   "cell_type": "markdown",
   "id": "3a8de05b",
   "metadata": {},
   "source": [
    "### Create elasticsearcg client es and connect to cluster"
   ]
  },
  {
   "cell_type": "code",
   "execution_count": 13,
   "id": "68d7ce98",
   "metadata": {},
   "outputs": [],
   "source": [
    "es = Elasticsearch(\"http://localhost:9200\", basic_auth=(\"elastic\",\"fcN0n1_TzrIc8TCZP_3y\"))"
   ]
  },
  {
   "cell_type": "markdown",
   "id": "41f47696",
   "metadata": {},
   "source": [
    "### Create mapping schema"
   ]
  },
  {
   "cell_type": "code",
   "execution_count": 64,
   "id": "eda1772d",
   "metadata": {},
   "outputs": [],
   "source": [
    "settings= {\n",
    "    \"number_of_shards\": 1,\n",
    "  }\n",
    "mappings_python = {\n",
    "    \"properties\": {\n",
    "         \"embedding_abstract\": { \n",
    "                        \"type\": \"dense_vector\",\n",
    "                        \"dims\": 384,\n",
    "                        \"index\": True,\n",
    "                        \"similarity\": \"cosine\" },\n",
    "          \"abstract\":{\"type\":\"text\"},\n",
    "          \"pmid\":{\"type\":\"text\"}\n",
    "    }\n",
    "  }\n",
    "\n",
    "\n"
   ]
  },
  {
   "cell_type": "markdown",
   "id": "4d26d81f",
   "metadata": {},
   "source": [
    " ### Create index"
   ]
  },
  {
   "cell_type": "code",
   "execution_count": 70,
   "id": "60d9bc74",
   "metadata": {},
   "outputs": [
    {
     "data": {
      "text/plain": [
       "ObjectApiResponse({'acknowledged': True, 'shards_acknowledged': True, 'index': 'medline_python'})"
      ]
     },
     "execution_count": 70,
     "metadata": {},
     "output_type": "execute_result"
    }
   ],
   "source": [
    "es.indices.create(index=\"medline_python\", settings=settings, mappings=mappings_python)"
   ]
  },
  {
   "cell_type": "code",
   "execution_count": 72,
   "id": "febaef5e",
   "metadata": {},
   "outputs": [],
   "source": [
    "for i, row in df_abstracts.iterrows():\n",
    "    embedding = model.encode(row[\"abstract\"])\n",
    "    doc = {\n",
    "        \"pmid\": row[\"pmid\"],\n",
    "        \"abstract\": row[\"abstract\"],\n",
    "        \"embedding_abstract\":embedding\n",
    "    }\n",
    "            \n",
    "    es.index(index=\"medline_python\", id=i, document=doc)"
   ]
  },
  {
   "cell_type": "markdown",
   "id": "3ed95f7c",
   "metadata": {},
   "source": [
    "### Define query and its embedding"
   ]
  },
  {
   "cell_type": "code",
   "execution_count": 15,
   "id": "47ae83be",
   "metadata": {},
   "outputs": [],
   "source": [
    "query=\"What are results of combining two or more drugs?\"\n",
    "query_embedding = model.encode(query)\n",
    "#query_embedding"
   ]
  },
  {
   "cell_type": "markdown",
   "id": "6441967c",
   "metadata": {},
   "source": [
    "### Query for semantic search"
   ]
  },
  {
   "cell_type": "code",
   "execution_count": 26,
   "id": "7bbbbc25",
   "metadata": {},
   "outputs": [],
   "source": [
    "query_semantic = {\n",
    "    \"field\": \"embedding_abstract\",\n",
    "    \"query_vector\": query_embedding,\n",
    "    \"k\": 10,\n",
    "    \"num_candidates\": 100,\n",
    "    }\n",
    "\n",
    "query_lexical={\n",
    "   \"match\": {\n",
    "       \"abstract\": query\n",
    "}\n",
    "}"
   ]
  },
  {
   "cell_type": "markdown",
   "id": "59fad855",
   "metadata": {},
   "source": [
    "### Lexical search"
   ]
  },
  {
   "cell_type": "code",
   "execution_count": 25,
   "id": "dcb869bb",
   "metadata": {},
   "outputs": [
    {
     "data": {
      "text/plain": [
       "ObjectApiResponse({'took': 3, 'timed_out': False, '_shards': {'total': 1, 'successful': 1, 'skipped': 0, 'failed': 0}, 'hits': {'total': {'value': 482, 'relation': 'eq'}, 'max_score': 9.742066, 'hits': [{'_index': 'medline_python', '_id': '724', '_score': 9.742066, '_source': {'pmid': 725, 'abstract': '78 patients suffering from various functional abdominal complaints have been trated in a 2 x 2 double-blind design: (a) psychotherapy with Ro 5-3350 (TH/Ro); (b) psychotherapy with placebo (TH/P); (c) Ro 5-3350 without psychotherapy (NIH/Ro); (d) placebo without psychotherapy (NTH/P). Results show that a considerable amount of improvement cannot be ascribed to the two critical factors or the interaction of both, but are due to unspecific influences in the course of treatment. Some of the results concerning the combination of TH and the psychotropic drug pose interesting questions for further research and bare implications for double-blind trials of psychotropic drugs. The results suggest that possibly properties of any psychotropic drug have to be related to a doctor-patient relationship within which the personal problems of the patient are dealt with. In order to evaluate such properties, special methodological precautions have to be taken. These will be briefly discussed.'}}, {'_index': 'medline_python', '_id': '627', '_score': 9.32644, '_source': {'pmid': 628, 'abstract': 'Peripheral alpha-adrenoceptor stimulation was tested by means of hypertensive effects of the drugs following i.v. injection in spinal rats. Naphazoline (NP), oxymetazoline (OM), St 91-2-(2,6-diethylphenylimino)-2-imidazolidine--and St 1697--2-(2-ethyl, 6-methylphenylimino)-2-imidazolidine--were 3 to 5 times more potent in tthis respect thatn clonidine (CLON) whereas St 363--2-(2,4-dichlorophenylimino)-2-imidazolidine--and xylazine (XY) exerted only approx. 1/20 the effect of that of clonidine. Sympathoinhibitory activity after i.v. injection was tested by the bradycardiac effect in vagotomized rats; St 1697, St 363 and XY were active, approx. 1/10-1/30 of CLON, whereas NP, OM and St 91 were inactive. However, following intracisternal (i.ci.) injection of cardiovascular depression, typical for clonidine: (1) in dogs with blocked beta-adrenoceptors, the drugs facilitated the vagally meditated cardiodepressor reflex in response to baroreceptor stimulation by i.v. injection of angiotensin; (2) in dogs treated with atropine and in (3) vagotomized cats (only NP, OM and St 363) a long lasting decrease in heart rate was observed. Some of the experiments were complicated by increases in blood pressure, due to the \"leakage\" of small amounts of the highly vasopressor active drugs, from the cisternal spaces into the peripheral circulation. The majority of results indicated, that the central cardiovascular depressor effects of the tested drugs depend on their alpha-adrenoreceptor stimulating potency and on their ability to penetrate from cerebrospinal fluid or from the blood to cardiovascular centers. Relationships between the ability for penetration and the lipoid affinity are discussed.'}}, {'_index': 'medline_python', '_id': '132', '_score': 9.284056, '_source': {'pmid': 133, 'abstract': 'Many eyes donated for use in corneal grafting are rejected because of signs of autolysis in the donor material. The purpose of this experimental study was to determine whether hydrocortisone acting as a lysosome membrane stabilizer could prevent or retard autolysis of the corneas under storage, and if so, what was the most efficacious concentration. Different groups of rabbit corneas were placed in saline as controls or in varying concentrations of hydrocortisone (10(-10) M to 10(-4) M at pH 7.4) at 37 degrees C and 4 degrees C. Acid phosphatase released after six hours was measured biochemically. This enzyme was used as a marker enzyme reflecting lysosomal labilization. Results showed a significant stabilization of the lysosomal membrane at 4 degrees C as compared to 37 degrees C. A trend towards stabilization of the lysosomal membrane was seen when 10(-8) M concentration of hydrocortisone at 37 degrees C was used, there being no demonstrable stabilization at 4 degrees C.'}}, {'_index': 'medline_python', '_id': '280', '_score': 9.219798, '_source': {'pmid': 281, 'abstract': 'A combination of two or more drugs may exert a drug-drug interaction, in which case the effect can be potentiated or antagonized. Such synergistic effects are well known in the case of pyrabital (barbital + aminopyrine) or irgapyrine (phenylbutazone + aminopyrine). Bucolome (BCP), a non-steroidal anti-inflammatory agent, has the chemical structure of a barbiturate and also resembles the formula of pheylbutazone. Thus the influence of BCP combination on the pharmacological activities of various pyrazolone derivatives was examined. BCP potentiated the analgesic and antipyretic effects of 4-aminoantipyrine (4A), methylaminoantipyrine (MA), aminopyrine (AM) and isopropylaminoantipyrine (IPA), which were substituted by the alkylamino group at 4-position of the pyrazolone ring. This potentiation occurred when the dose of BCP exceeded that of the pyrazolones, and was especially marked when combination ratio of BCP exceeded that of the pyrazolones, and was especially marked when combination ratio of BCP and pyrazolone was 2:1 mola. The analgesic effects of antipyrine (AN), isopropylantipyrine (IP) and aminopropylone (AP), which were substituted by alkyl group or aminoacylamino group at 4-position, were not potentiated by BCP in any combination ratio. Most pyrazolones showed additive acute toxicity in their combination with BCP, but acute toxicities of 4A and AM, which were potentiated in analgesic effects, were decreased and antagonized when combined with BCP. The plasma concentration of AM was increased and prolonged by BCP, while that of IP remained much the same. These results suggest that the pharmacological activities are associated with certain molecular interactions between BCP and pyrazolones, which are substituted by the alkylamino group at 4-position of the pyrazolone ring.'}}, {'_index': 'medline_python', '_id': '642', '_score': 7.6874795, '_source': {'pmid': 643, 'abstract': 'From the chemical and pharmalogical point of view it is impossible to separate strictly between antiepileptic and psychopharmalogical drugs. Inspite of that and several clinical overlappings it is possible and helpful finding differences between the two groups of drugs. Basing on the indication we try to demonstrate the use of these drug-groups. 1. Antiepileptic drugs in behaviour disorders. A. In spite of various publications we recommend carefullness and restriction. B. Only in case of behaviour disorders due to epileptic origin antiepileptic therapy is indicated. 2. Psychopharmalogical drugs in epilepsies A. The frequency of seizures may be reduced B. Psychical disorders connected with seizures may be influnced.'}}, {'_index': 'medline_python', '_id': '709', '_score': 7.1435804, '_source': {'pmid': 710, 'abstract': 'Forty paid healthy male students participated in two subacute experiments of 6 weeks each. In the first trial 20 of them received bromazepam, thioridazine, and placebo double blind cross over for 2 weeks each, and in the second trial the active agents administered to the other 20 participants were chlorpromazine and sulpiride. The tests used were paired associate learning with nonsense syllables and digit memory span. Before testing the subjects took either an alcoholic or a nonalcoholic bitter drink. As in the previous study from this laboratory, alcohol was found to impair learning capacity. Of the drugs used only bromazepam impaired learning significantly, and the combined effect of alcohol and bromazepam on learning capacity was very deleterious. The adrenolytic effect of drugs did not correlate with their effect on learning. Caution is necessary when prescribing bromazepam for active outpatients at least in doses used in this study.'}}, {'_index': 'medline_python', '_id': '95', '_score': 7.051287, '_source': {'pmid': 94, 'abstract': 'The fluorescence probe(4-dimethylaminochalcone; DMH) was noncovalently linked to human serum albumin (HSA). The variation of pH was due to serum albumin structural changes, which was determined in terms of DMH and HSA fluorescence and CD spectra. Considerable changes of fluorescence and CD spectra were observed at pH 8 and 10, where there is ionization of two more recently titrated tyrosin residues. It is assumed that these two tyrosine residues are in binding region and quench the fluorescence of DMH between pH 4 to 8. Quenching disappears if these residues are ionized (pH greater than 8) or if the protein undergoes the N -F transition (pH less than 4).'}}, {'_index': 'medline_python', '_id': '229', '_score': 6.7919116, '_source': {'pmid': 230, 'abstract': 'Both UDP-glucuronyltransferase (GT) and beta-glucuronidase (betaG) were assayed in untreated liver microsomes. Optimum assay conditions were established with rat liver microsomes using p-nitrophenol (pNP) and its glucuronide (pNPGA) at the pH optima of GT (7.5) and betaG (4.5). The activities of the two enzymes were compared using microsomes from rats, mice, pigs, cattle and horses, with pNP, pNPGA, and phenolphthalein as substrate, in the presence of various cofactors and inhibitors at pH 7.5 and 4.5. These data disclose pronounced differences with respect to species, substrate and other experimental conditions, thereby precluding the establishment of general optimum conditions. The two enzymes were also assayed under strictly identical conditions using pNP and pNPGA and rat liver microsomes at pH 7.5 in the presence and absence of UDP-glucuronate disodium (UDPGA), activators (ATP;UDP-N-acetylglucosamine) and inhibitors. When provided with a functional level of UDPGA, both enzymes proved active under those conditions, and a conjugation-deconjugation interplay was indicated. The two processes could be selectively and totally inhibited by Zn2+ and saccharolactone. The results suggest that conjugation-deconjugation-reconjugation cycles may be operative in the metabolism of drugs in vivo, taking place already at the level of the liver endoplasmic reticulum.'}}, {'_index': 'medline_python', '_id': '166', '_score': 6.7379146, '_source': {'pmid': 167, 'abstract': 'There are different types of renal hypertension: hypertension due to parenchymal renal disease, renovascular hypertension, hypertension due to urological disease, hypertension of endstage renal disease. Treatment has to consider-above all-the possibility of specific, medical or surgical procedures that may cause the underlying condition. If the underlying disease is not amenable to specific therapy, symptomatic medical treatment to lower blood pressure is indicated: besides control of sodium-intake and body weight antihypertensive drugs are generally indicated. We use them, alone or in combination, in the following line of order: diuretics, beta-adrenergic blockers, dihydralazine, reserpine, clonidine, alpha-methyldopa, guanethidine.'}}, {'_index': 'medline_python', '_id': '51', '_score': 6.5370927, '_source': {'pmid': 52, 'abstract': 'The functional role of the Bacillus stearothermophilus 50S ribosomal protein B-L3 (probably homologous to the Escherichia coli protein L2) was examined by chemical modification. The complex [B-L3-23S RNA] was photooxidized in the presence of rose bengal and the modified protein incorporated by reconstitution into 50S ribosomal subunits containing all other unmodified components. Particles containing photooxidized B-L3 are defective in several functional assays, including (1) poly(U)-directed poly(Phe) synthesis, (2) peptidyltransferase activity, (3) ability to associate with a [30S-poly(U)-Phe-tRNA] complex, and (4) binding of elongation factor G and GTP. The rates of loss of the partial functional activities during photooxidation of B-L3 indicate that at least two independent inactivating events are occurring, a faster one, involving oxidation of one or more histidine residues, affecting peptidyltransferase and subunit association activities and a slower one affecting EF-G binding. Therefore the protein B-L3 has one or more histidine residues which are essential for peptidyltransferase and subunit association, and another residue which is essential for EF-G-GTP binding. B-L3 may be the ribosomal peptidyltransferase protein, or a part of the active site, and may contribute functional groups to the other active sites as well.'}}]}})"
      ]
     },
     "execution_count": 25,
     "metadata": {},
     "output_type": "execute_result"
    }
   ],
   "source": [
    "es.search(index=\"medline_python\", query=query_lexical,source=[\"pmid\",\"abstract\"])"
   ]
  },
  {
   "cell_type": "markdown",
   "id": "6f12490a",
   "metadata": {},
   "source": [
    "### Semantic search"
   ]
  },
  {
   "cell_type": "code",
   "execution_count": 27,
   "id": "128887c1",
   "metadata": {},
   "outputs": [
    {
     "data": {
      "text/plain": [
       "ObjectApiResponse({'took': 3, 'timed_out': False, '_shards': {'total': 1, 'successful': 1, 'skipped': 0, 'failed': 0}, 'hits': {'total': {'value': 10, 'relation': 'eq'}, 'max_score': 0.6711177, 'hits': [{'_index': 'medline_python', '_id': '933', '_score': 0.6711177, '_source': {'pmid': 934, 'abstract': 'The rates at which pentobarbital, salicylate, antipyrine, and quinine were transferred from the rumen of intact, conscious goats were measured. The rates at which the same drugs diffused from the blood plasma (under conditions of constant drug concentration) into the ruminal solution were also evaluated. These compounds were absorbed by simple diffusion, and the rates of transfer were a function of pH of the intraruminal solution. The diffusion of drugs from plasma into the reticulorumen allowed steady-state distributions to be established in some goats. The theoretical and observed steady-state distributions were compared. There were good correlations for pentobarbital and antipyrine, but not for salicylate and quinine. These findings confirm in vivo the general principles of drug transfer across ruminal epithelium that were derived from previous studies conducted in vitro.'}}, {'_index': 'medline_python', '_id': '278', '_score': 0.65539074, '_source': {'pmid': 279, 'abstract': 'Adrenaline and isoproterenol elicited nearly maximal relaxation of the colon even in small doses, whereas increase in the doses caused greater relaxation in the duodenum. In the colon, these drugs prevented, to a great extent the contraction induced by acetylcholine (ACh) and serotonin but in the duodenum were totally ineffective. Dibenamine and propranolol reduced adrenaline- and isoproterenol-induced relaxation in the duodenum, though propranolol decreased the relaxation caused by isoproterenol. Atropine prevented ACh-induced contraction in both the colon and duodenum in the same way. After 2-bromolysergic acid diethylamide, duodenal contraction caused by ACh or serotonin decreased by over 70%; however, the contraction of the colon was not significantly inhibited. Methysergide had similar effects, but to a lesser degree. In calcium-free bathing fluid without addition of Na2EDTA, ACh and prostaglandin E1 elicited contraction in the colon, but not in the duodenum.'}}, {'_index': 'medline_python', '_id': '906', '_score': 0.6465012, '_source': {'pmid': 907, 'abstract': 'Maternal dose--fetal teratogenic response data were obtained for a variety of narcotic and related compounds by single subcutaneous injections of the drugs into pregnant hamsters during the critical periods of central nervous system organogenesis. The number of abnormal fetuses from females injected with diacetylmorphine (heroin), thebaine, phenazocine, pentazocine, propoxyphene, and methadone increased as the maternal dose of the compounds was increased. By contrast, morphine, hydromorphone, and meperidine produced an increase in the number (per cent) of fetal anomalies only up to a certain maternal dose level. Further increases in maternal dose levels did not produce additional fetal anomalies. Comparative studies of single and multiple maternal doses indicated that diacetylmorphine (heroin) and methadone produced a four- to sixfold increase in fetal anomalies with repetitive doses whereas the percentage of malformed fetuses remained the same with hydromorphone (Dilaudid). The narcotic antagonists nalorphine, naloxone, levallophan, and cyclazocine blocked the teratogenic effects of both single and multiple doses of the narcotics.'}}, {'_index': 'medline_python', '_id': '975', '_score': 0.6297421, '_source': {'pmid': 976, 'abstract': 'An attempt was made to determine the sites of chloroplast phenylalanyl-tRNA synthetase transcription and translation. Inhibitors of bacterial RNA and protein synthesis were added to logarithmic and stationary phase cultures of Euglena gracilis wild-type B. Logarithmic phase cultures were sensitive to both types of inhibitors. In stationary phase cultures plastid synthetase was reduced by RNA but not by protein synthesis inhibitors. The effect of the antibiotics on the mitochondrial enzyme was also noted. Several possible explanations of these resuults are discussed.'}}, {'_index': 'medline_python', '_id': '127', '_score': 0.6268158, '_source': {'pmid': 128, 'abstract': 'The actions of glycine, GABA, alpha-alanine, beta-alanine and taurine were studied by intracellular recordings from lumbar motoneurons of the isolated spinal cord of the frog. All amino acids tested produced a reduction in the amplitude of postsynaptic potentials, a blockade of the antidromic action potential and an increase of membrane conductance. Furthermore, membrane polarizations occurred, which were always in the same direction as the IPSP. All these effects indicate a postsynaptic inhibitory action of these amino acids. When the relative strength of different amino acids was compared, taurine had the strongest inhibitory potency, followed by beta-alanine, alpha-alanine, GABA and glycine. Topically applied strychnine and picrotoxin induced different changes of post-synaptic potentials, indicating that distinct inhibitory systems might be influenced by these two convulsants. Interactions with amino acids showed that picrotoxin seletively diminished the postsymaptic actions of GABA, while strychnine reduced the effects of taurine, glycine, alpha- and beta-alanine. But differences in the susceptibility of these amino acid actions to strychnine could be detected: the action of taurine was more sensitively blocked by strychnine compared with glycine, alpha- and beta-alanine. With regard to these results the importance of taurine and GABA as transmitters of postsynaptic inhibition on motoneurons in the spinal cord of the frog is discussed.'}}, {'_index': 'medline_python', '_id': '860', '_score': 0.6254601, '_source': {'pmid': 861, 'abstract': 'The reaction of the analgesic amidopyrine (100 mg) with nitrite extracted from cured meats and from spinach in varying degrees of spoilage was studied. Unde physiological conditions the carcinogenic dimethylnitrosamine was formed at milligram levels at nitrite concentrations as low as 4 mg (in 175 ml extracted from 100 g boiled ham). The rate of decrease in concentration in the human stomach after ingestion of amidopyrine and of nitrite contained in boiled ham or in a broth from boiled ham was also measured.'}}, {'_index': 'medline_python', '_id': '49', '_score': 0.62461215, '_source': {'pmid': 50, 'abstract': 'The near-ultraviolet circular dichroism (CD) of three homogeneous anti-type III pneumococcal antibodies in the absence and the presence of the specific hexasaccharide ligand was studied. In addition recombinations and hybridizations of H and L chains derived from two of these antibodies were carried out and the CD spectra of bound and free reconstituted IgG molecules were measured. The results indicate that the CD spectra of the native antibodies in the 260-310-nm range are very similar in shape and sign and exhibit a positive band at 285 nm. The homologous reconstituted antibody molecules exhibited CD spectra very similar in shape and sign to those of the native antibody molecules although recombinant molecules are no longer stabilized by interchain disulfide bonds. Upon addition of the hexasaccharide ligand, a significant decrease in amplitude of the CD spectra (18-21%) occurred in all three native antibodies and their Fab fragments as well as in the homologous recombinant molecules. No CD spectral changes could be detected upon interaction of the hapten ligand with the heterologous recombinants. All homogeneous antibodies studied exhibited fluorescence quenching upon oligosaccharide binding and a blue shift of the emission maximum. This property allowed the determination of the binding constant of one selected antibody to be made. Taken together, CD and fluorescence spectroscopic data suggest that oligosaccharide ligands induced detectable conformational changes in the Fab fragment of the antibody.'}}, {'_index': 'medline_python', '_id': '85', '_score': 0.62403905, '_source': {'pmid': 86, 'abstract': 'The activities of hybrid dimers of alkaline phosphatase containing two chemically modified subunits have been investigated. One hybrid species was prepared by dissociation and reconstitution of a mixture of two variants produced by chemical modification of the native enzyme with succinic anhydride and tetranitromethane, respectively. The succinyl-nitrotyrosyl hybrid was separated from the other members of the hybrid set by DEAE-Sephadex chromatography and then converted to a succinyl-aminotyrosyl hybrid by reduction of the modified tyrosine residues with sodium dithionite. A comparison of the activities of these two hybrids with the activities of the succinyl, nitrotyrosyl and aminotyrosyl derivatives has shown that either the subunits of alkaline phosphatase function independently or if the subunits turnover alternately in a reciprocating mechanism, then the intrinsic activity of each subunit must be strongly dependent on its partner subunit.'}}, {'_index': 'medline_python', '_id': '913', '_score': 0.6200424, '_source': {'pmid': 914, 'abstract': 'Hospital psychiatry has evolved from long-term \"treatment\" programs that were primarily custodial to the successful pharmacological treatment of acute psychotic episodes. Unfortunately, many patients still return to the hospital with relapses. This so-called revolving door syndrome draws attention to the critical importance of preventing as well as treating acute episodes. In the first part of this overview, the author reviews the clinical literature on prophylactic treatment of schizophrenia with maintenance antipsychotic drugs. The second part will review the literature on prophylactic treatment of affective disorders with lithium and tricyclics. In the opinion of the author these drugs provide the potential for truly preventive psychiatry.'}}, {'_index': 'medline_python', '_id': '42', '_score': 0.6177788, '_source': {'pmid': 43, 'abstract': 'Primary amines react with 2,4-pentanedione at pH 6-9 to form enamines, N-alkyl-4-amino-3-penten-2-ones. The latter compounds readily regenerate the primary amine at low pH or on treatment with hydroxylamine. Guanidine and substituted guanidines react with 2,4-pentanedione to form N-substituted 2-amino-4,6-dimethylpyrimidines at a rate which is lower by at least a factor of 20 than the rate of reaction of 2,4-pentanedione with primary amines. Selective modification of lysine and arginine side chains in proteins can readily be achieved with 2,4-pentanedione. Modification of lysine is favored by reaction at pH 7 or for short reaction times at pH 9. Selective modification of arginine is achieved by reaction with 2,4-pentanedione for long times at pH 9, followed by treatment of the protein with hydroxylamine. The extent of modification of lysine and arginine side chains can readily be measured spectrophotometrically. Modification of lysozyme with 2,4-pentanedione at pH 7 results in modification of 3.8 lysine residues and less than 0.4 arginine residue in 24 hr. Modification of lysozyme with 2,4-pentanedione at pH 9 results in modification of 4 lysine residues and 4.5 arginine residues in 100 hr. Treatment of this modified protein with hydroxylamine regenerated the modified lysine residues but caused no change in the modified arginine residues. One arginine residue seems to be essential for the catalytic activity of the enzyme.'}}]}})"
      ]
     },
     "execution_count": 27,
     "metadata": {},
     "output_type": "execute_result"
    }
   ],
   "source": [
    "es.search(index=\"medline_python\", knn=query_semantic,source=[\"pmid\",\"abstract\"])"
   ]
  },
  {
   "cell_type": "markdown",
   "id": "5eab8647",
   "metadata": {},
   "source": [
    "## Hybrid search - combined Semantic and Lexical search"
   ]
  },
  {
   "cell_type": "code",
   "execution_count": 29,
   "id": "b827bfb0",
   "metadata": {},
   "outputs": [
    {
     "data": {
      "text/plain": [
       "ObjectApiResponse({'took': 13, 'timed_out': False, '_shards': {'total': 1, 'successful': 1, 'skipped': 0, 'failed': 0}, 'hits': {'total': {'value': 482, 'relation': 'eq'}, 'max_score': None, 'hits': [{'_index': 'medline_python', '_id': '724', '_score': None, '_rank': 1, '_source': {'pmid': 725, 'abstract': '78 patients suffering from various functional abdominal complaints have been trated in a 2 x 2 double-blind design: (a) psychotherapy with Ro 5-3350 (TH/Ro); (b) psychotherapy with placebo (TH/P); (c) Ro 5-3350 without psychotherapy (NIH/Ro); (d) placebo without psychotherapy (NTH/P). Results show that a considerable amount of improvement cannot be ascribed to the two critical factors or the interaction of both, but are due to unspecific influences in the course of treatment. Some of the results concerning the combination of TH and the psychotropic drug pose interesting questions for further research and bare implications for double-blind trials of psychotropic drugs. The results suggest that possibly properties of any psychotropic drug have to be related to a doctor-patient relationship within which the personal problems of the patient are dealt with. In order to evaluate such properties, special methodological precautions have to be taken. These will be briefly discussed.'}}, {'_index': 'medline_python', '_id': '933', '_score': None, '_rank': 2, '_source': {'pmid': 934, 'abstract': 'The rates at which pentobarbital, salicylate, antipyrine, and quinine were transferred from the rumen of intact, conscious goats were measured. The rates at which the same drugs diffused from the blood plasma (under conditions of constant drug concentration) into the ruminal solution were also evaluated. These compounds were absorbed by simple diffusion, and the rates of transfer were a function of pH of the intraruminal solution. The diffusion of drugs from plasma into the reticulorumen allowed steady-state distributions to be established in some goats. The theoretical and observed steady-state distributions were compared. There were good correlations for pentobarbital and antipyrine, but not for salicylate and quinine. These findings confirm in vivo the general principles of drug transfer across ruminal epithelium that were derived from previous studies conducted in vitro.'}}, {'_index': 'medline_python', '_id': '278', '_score': None, '_rank': 3, '_source': {'pmid': 279, 'abstract': 'Adrenaline and isoproterenol elicited nearly maximal relaxation of the colon even in small doses, whereas increase in the doses caused greater relaxation in the duodenum. In the colon, these drugs prevented, to a great extent the contraction induced by acetylcholine (ACh) and serotonin but in the duodenum were totally ineffective. Dibenamine and propranolol reduced adrenaline- and isoproterenol-induced relaxation in the duodenum, though propranolol decreased the relaxation caused by isoproterenol. Atropine prevented ACh-induced contraction in both the colon and duodenum in the same way. After 2-bromolysergic acid diethylamide, duodenal contraction caused by ACh or serotonin decreased by over 70%; however, the contraction of the colon was not significantly inhibited. Methysergide had similar effects, but to a lesser degree. In calcium-free bathing fluid without addition of Na2EDTA, ACh and prostaglandin E1 elicited contraction in the colon, but not in the duodenum.'}}, {'_index': 'medline_python', '_id': '627', '_score': None, '_rank': 4, '_source': {'pmid': 628, 'abstract': 'Peripheral alpha-adrenoceptor stimulation was tested by means of hypertensive effects of the drugs following i.v. injection in spinal rats. Naphazoline (NP), oxymetazoline (OM), St 91-2-(2,6-diethylphenylimino)-2-imidazolidine--and St 1697--2-(2-ethyl, 6-methylphenylimino)-2-imidazolidine--were 3 to 5 times more potent in tthis respect thatn clonidine (CLON) whereas St 363--2-(2,4-dichlorophenylimino)-2-imidazolidine--and xylazine (XY) exerted only approx. 1/20 the effect of that of clonidine. Sympathoinhibitory activity after i.v. injection was tested by the bradycardiac effect in vagotomized rats; St 1697, St 363 and XY were active, approx. 1/10-1/30 of CLON, whereas NP, OM and St 91 were inactive. However, following intracisternal (i.ci.) injection of cardiovascular depression, typical for clonidine: (1) in dogs with blocked beta-adrenoceptors, the drugs facilitated the vagally meditated cardiodepressor reflex in response to baroreceptor stimulation by i.v. injection of angiotensin; (2) in dogs treated with atropine and in (3) vagotomized cats (only NP, OM and St 363) a long lasting decrease in heart rate was observed. Some of the experiments were complicated by increases in blood pressure, due to the \"leakage\" of small amounts of the highly vasopressor active drugs, from the cisternal spaces into the peripheral circulation. The majority of results indicated, that the central cardiovascular depressor effects of the tested drugs depend on their alpha-adrenoreceptor stimulating potency and on their ability to penetrate from cerebrospinal fluid or from the blood to cardiovascular centers. Relationships between the ability for penetration and the lipoid affinity are discussed.'}}, {'_index': 'medline_python', '_id': '132', '_score': None, '_rank': 5, '_source': {'pmid': 133, 'abstract': 'Many eyes donated for use in corneal grafting are rejected because of signs of autolysis in the donor material. The purpose of this experimental study was to determine whether hydrocortisone acting as a lysosome membrane stabilizer could prevent or retard autolysis of the corneas under storage, and if so, what was the most efficacious concentration. Different groups of rabbit corneas were placed in saline as controls or in varying concentrations of hydrocortisone (10(-10) M to 10(-4) M at pH 7.4) at 37 degrees C and 4 degrees C. Acid phosphatase released after six hours was measured biochemically. This enzyme was used as a marker enzyme reflecting lysosomal labilization. Results showed a significant stabilization of the lysosomal membrane at 4 degrees C as compared to 37 degrees C. A trend towards stabilization of the lysosomal membrane was seen when 10(-8) M concentration of hydrocortisone at 37 degrees C was used, there being no demonstrable stabilization at 4 degrees C.'}}, {'_index': 'medline_python', '_id': '906', '_score': None, '_rank': 6, '_source': {'pmid': 907, 'abstract': 'Maternal dose--fetal teratogenic response data were obtained for a variety of narcotic and related compounds by single subcutaneous injections of the drugs into pregnant hamsters during the critical periods of central nervous system organogenesis. The number of abnormal fetuses from females injected with diacetylmorphine (heroin), thebaine, phenazocine, pentazocine, propoxyphene, and methadone increased as the maternal dose of the compounds was increased. By contrast, morphine, hydromorphone, and meperidine produced an increase in the number (per cent) of fetal anomalies only up to a certain maternal dose level. Further increases in maternal dose levels did not produce additional fetal anomalies. Comparative studies of single and multiple maternal doses indicated that diacetylmorphine (heroin) and methadone produced a four- to sixfold increase in fetal anomalies with repetitive doses whereas the percentage of malformed fetuses remained the same with hydromorphone (Dilaudid). The narcotic antagonists nalorphine, naloxone, levallophan, and cyclazocine blocked the teratogenic effects of both single and multiple doses of the narcotics.'}}, {'_index': 'medline_python', '_id': '280', '_score': None, '_rank': 7, '_source': {'pmid': 281, 'abstract': 'A combination of two or more drugs may exert a drug-drug interaction, in which case the effect can be potentiated or antagonized. Such synergistic effects are well known in the case of pyrabital (barbital + aminopyrine) or irgapyrine (phenylbutazone + aminopyrine). Bucolome (BCP), a non-steroidal anti-inflammatory agent, has the chemical structure of a barbiturate and also resembles the formula of pheylbutazone. Thus the influence of BCP combination on the pharmacological activities of various pyrazolone derivatives was examined. BCP potentiated the analgesic and antipyretic effects of 4-aminoantipyrine (4A), methylaminoantipyrine (MA), aminopyrine (AM) and isopropylaminoantipyrine (IPA), which were substituted by the alkylamino group at 4-position of the pyrazolone ring. This potentiation occurred when the dose of BCP exceeded that of the pyrazolones, and was especially marked when combination ratio of BCP exceeded that of the pyrazolones, and was especially marked when combination ratio of BCP and pyrazolone was 2:1 mola. The analgesic effects of antipyrine (AN), isopropylantipyrine (IP) and aminopropylone (AP), which were substituted by alkyl group or aminoacylamino group at 4-position, were not potentiated by BCP in any combination ratio. Most pyrazolones showed additive acute toxicity in their combination with BCP, but acute toxicities of 4A and AM, which were potentiated in analgesic effects, were decreased and antagonized when combined with BCP. The plasma concentration of AM was increased and prolonged by BCP, while that of IP remained much the same. These results suggest that the pharmacological activities are associated with certain molecular interactions between BCP and pyrazolones, which are substituted by the alkylamino group at 4-position of the pyrazolone ring.'}}, {'_index': 'medline_python', '_id': '975', '_score': None, '_rank': 8, '_source': {'pmid': 976, 'abstract': 'An attempt was made to determine the sites of chloroplast phenylalanyl-tRNA synthetase transcription and translation. Inhibitors of bacterial RNA and protein synthesis were added to logarithmic and stationary phase cultures of Euglena gracilis wild-type B. Logarithmic phase cultures were sensitive to both types of inhibitors. In stationary phase cultures plastid synthetase was reduced by RNA but not by protein synthesis inhibitors. The effect of the antibiotics on the mitochondrial enzyme was also noted. Several possible explanations of these resuults are discussed.'}}, {'_index': 'medline_python', '_id': '127', '_score': None, '_rank': 9, '_source': {'pmid': 128, 'abstract': 'The actions of glycine, GABA, alpha-alanine, beta-alanine and taurine were studied by intracellular recordings from lumbar motoneurons of the isolated spinal cord of the frog. All amino acids tested produced a reduction in the amplitude of postsynaptic potentials, a blockade of the antidromic action potential and an increase of membrane conductance. Furthermore, membrane polarizations occurred, which were always in the same direction as the IPSP. All these effects indicate a postsynaptic inhibitory action of these amino acids. When the relative strength of different amino acids was compared, taurine had the strongest inhibitory potency, followed by beta-alanine, alpha-alanine, GABA and glycine. Topically applied strychnine and picrotoxin induced different changes of post-synaptic potentials, indicating that distinct inhibitory systems might be influenced by these two convulsants. Interactions with amino acids showed that picrotoxin seletively diminished the postsymaptic actions of GABA, while strychnine reduced the effects of taurine, glycine, alpha- and beta-alanine. But differences in the susceptibility of these amino acid actions to strychnine could be detected: the action of taurine was more sensitively blocked by strychnine compared with glycine, alpha- and beta-alanine. With regard to these results the importance of taurine and GABA as transmitters of postsynaptic inhibition on motoneurons in the spinal cord of the frog is discussed.'}}]}})"
      ]
     },
     "execution_count": 29,
     "metadata": {},
     "output_type": "execute_result"
    }
   ],
   "source": [
    "es.search(index=\"medline_python\",query=query_lexical, knn=query_semantic,source=[\"pmid\",\"abstract\"], rank={\"rrf\":{}})"
   ]
  },
  {
   "cell_type": "code",
   "execution_count": null,
   "id": "70ff9b02",
   "metadata": {},
   "outputs": [],
   "source": []
  },
  {
   "cell_type": "code",
   "execution_count": null,
   "id": "ba200043",
   "metadata": {},
   "outputs": [],
   "source": []
  },
  {
   "cell_type": "code",
   "execution_count": 19,
   "id": "457d34e0",
   "metadata": {},
   "outputs": [],
   "source": [
    "\n"
   ]
  }
 ],
 "metadata": {
  "kernelspec": {
   "display_name": "Python 3 (ipykernel)",
   "language": "python",
   "name": "python3"
  },
  "language_info": {
   "codemirror_mode": {
    "name": "ipython",
    "version": 3
   },
   "file_extension": ".py",
   "mimetype": "text/x-python",
   "name": "python",
   "nbconvert_exporter": "python",
   "pygments_lexer": "ipython3",
   "version": "3.9.17"
  }
 },
 "nbformat": 4,
 "nbformat_minor": 5
}
