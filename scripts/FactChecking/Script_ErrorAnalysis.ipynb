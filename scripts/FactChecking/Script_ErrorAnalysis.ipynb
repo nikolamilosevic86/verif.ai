{
 "cells": [
  {
   "cell_type": "markdown",
   "id": "fcd5820a",
   "metadata": {},
   "source": [
    "### Extracting information for Error Analysis"
   ]
  },
  {
   "cell_type": "code",
   "execution_count": null,
   "id": "523fed8e",
   "metadata": {},
   "outputs": [],
   "source": [
    "import numpy as np\n",
    "import pandas as pd\n",
    "import time\n",
    "\n",
    "from sklearn.metrics import classification_report, confusion_matrix, accuracy_score, recall_score, precision_score, f1_score\n",
    "\n",
    "import datasets\n",
    "from datasets import Dataset\n",
    "from transformers import AutoTokenizer\n",
    "from transformers import DataCollatorWithPadding\n",
    "from transformers import AutoModelForSequenceClassification, TrainingArguments, Trainer\n",
    "from transformers import EarlyStoppingCallback, IntervalStrategy"
   ]
  },
  {
   "cell_type": "code",
   "execution_count": 1,
   "id": "71d6e534",
   "metadata": {},
   "outputs": [
    {
     "ename": "NameError",
     "evalue": "name 'AutoModelForSequenceClassification' is not defined",
     "output_type": "error",
     "traceback": [
      "\u001b[0;31m---------------------------------------------------------------------------\u001b[0m",
      "\u001b[0;31mNameError\u001b[0m                                 Traceback (most recent call last)",
      "Input \u001b[0;32mIn [1]\u001b[0m, in \u001b[0;36m<cell line: 2>\u001b[0;34m()\u001b[0m\n\u001b[1;32m      1\u001b[0m \u001b[38;5;66;03m# put the model path in apropriate place\u001b[39;00m\n\u001b[0;32m----> 2\u001b[0m newtrainer \u001b[38;5;241m=\u001b[39m \u001b[43mAutoModelForSequenceClassification\u001b[49m\u001b[38;5;241m.\u001b[39mfrom_pretrained(\u001b[38;5;124m'\u001b[39m\u001b[38;5;124m./DeBERTa_early4\u001b[39m\u001b[38;5;124m'\u001b[39m, num_labels\u001b[38;5;241m=\u001b[39m\u001b[38;5;241m3\u001b[39m)\n",
      "\u001b[0;31mNameError\u001b[0m: name 'AutoModelForSequenceClassification' is not defined"
     ]
    }
   ],
   "source": [
    "# put the model path in apropriate place\n",
    "\n",
    "newtrainer = AutoModelForSequenceClassification.from_pretrained('./DeBERTa_early4', num_labels=3)"
   ]
  },
  {
   "cell_type": "code",
   "execution_count": 23,
   "id": "771234c5",
   "metadata": {},
   "outputs": [],
   "source": [
    "trainer = Trainer(newtrainer)"
   ]
  },
  {
   "cell_type": "code",
   "execution_count": 24,
   "id": "728a5da6",
   "metadata": {},
   "outputs": [
    {
     "data": {
      "text/html": [],
      "text/plain": [
       "<IPython.core.display.HTML object>"
      ]
     },
     "metadata": {},
     "output_type": "display_data"
    }
   ],
   "source": [
    "predictions = trainer.predict(tokenized['test'])"
   ]
  },
  {
   "cell_type": "code",
   "execution_count": 25,
   "id": "127b220b",
   "metadata": {},
   "outputs": [],
   "source": [
    "classifications = []\n",
    "for pred in predictions[0]:\n",
    "    classifications.append(np.argmax(pred))"
   ]
  },
  {
   "cell_type": "code",
   "execution_count": 33,
   "id": "9f6ffba5",
   "metadata": {},
   "outputs": [
    {
     "data": {
      "text/html": [
       "<div>\n",
       "<style scoped>\n",
       "    .dataframe tbody tr th:only-of-type {\n",
       "        vertical-align: middle;\n",
       "    }\n",
       "\n",
       "    .dataframe tbody tr th {\n",
       "        vertical-align: top;\n",
       "    }\n",
       "\n",
       "    .dataframe thead th {\n",
       "        text-align: right;\n",
       "    }\n",
       "</style>\n",
       "<table border=\"1\" class=\"dataframe\">\n",
       "  <thead>\n",
       "    <tr style=\"text-align: right;\">\n",
       "      <th></th>\n",
       "      <th>label</th>\n",
       "      <th>prediction</th>\n",
       "      <th>text</th>\n",
       "    </tr>\n",
       "  </thead>\n",
       "  <tbody>\n",
       "    <tr>\n",
       "      <th>0</th>\n",
       "      <td>1</td>\n",
       "      <td>1</td>\n",
       "      <td>[CLS]Women are more susceptible to death due t...</td>\n",
       "    </tr>\n",
       "    <tr>\n",
       "      <th>1</th>\n",
       "      <td>2</td>\n",
       "      <td>2</td>\n",
       "      <td>[CLS]Cellular clocks are not predictive of mit...</td>\n",
       "    </tr>\n",
       "    <tr>\n",
       "      <th>2</th>\n",
       "      <td>0</td>\n",
       "      <td>0</td>\n",
       "      <td>[CLS]Cells undergoing methionine restriction m...</td>\n",
       "    </tr>\n",
       "    <tr>\n",
       "      <th>3</th>\n",
       "      <td>0</td>\n",
       "      <td>0</td>\n",
       "      <td>[CLS]Replacement of OCT4 and SOX2 genes with G...</td>\n",
       "    </tr>\n",
       "    <tr>\n",
       "      <th>4</th>\n",
       "      <td>2</td>\n",
       "      <td>2</td>\n",
       "      <td>[CLS]IgA plasma cells that are specific for tr...</td>\n",
       "    </tr>\n",
       "    <tr>\n",
       "      <th>...</th>\n",
       "      <td>...</td>\n",
       "      <td>...</td>\n",
       "      <td>...</td>\n",
       "    </tr>\n",
       "    <tr>\n",
       "      <th>117</th>\n",
       "      <td>1</td>\n",
       "      <td>1</td>\n",
       "      <td>[CLS]Charcoal shows no benefit for acute paraq...</td>\n",
       "    </tr>\n",
       "    <tr>\n",
       "      <th>118</th>\n",
       "      <td>2</td>\n",
       "      <td>2</td>\n",
       "      <td>[CLS]The risk of breast cancer among parous wo...</td>\n",
       "    </tr>\n",
       "    <tr>\n",
       "      <th>119</th>\n",
       "      <td>1</td>\n",
       "      <td>0</td>\n",
       "      <td>[CLS]Inositol lipid 3-phosphatase PTEN convert...</td>\n",
       "    </tr>\n",
       "    <tr>\n",
       "      <th>120</th>\n",
       "      <td>1</td>\n",
       "      <td>2</td>\n",
       "      <td>[CLS]Combination nicotine replacement therapie...</td>\n",
       "    </tr>\n",
       "    <tr>\n",
       "      <th>121</th>\n",
       "      <td>2</td>\n",
       "      <td>2</td>\n",
       "      <td>[CLS]Women with a lower birth weight are more ...</td>\n",
       "    </tr>\n",
       "  </tbody>\n",
       "</table>\n",
       "<p>122 rows × 3 columns</p>\n",
       "</div>"
      ],
      "text/plain": [
       "     label  prediction                                               text\n",
       "0        1           1  [CLS]Women are more susceptible to death due t...\n",
       "1        2           2  [CLS]Cellular clocks are not predictive of mit...\n",
       "2        0           0  [CLS]Cells undergoing methionine restriction m...\n",
       "3        0           0  [CLS]Replacement of OCT4 and SOX2 genes with G...\n",
       "4        2           2  [CLS]IgA plasma cells that are specific for tr...\n",
       "..     ...         ...                                                ...\n",
       "117      1           1  [CLS]Charcoal shows no benefit for acute paraq...\n",
       "118      2           2  [CLS]The risk of breast cancer among parous wo...\n",
       "119      1           0  [CLS]Inositol lipid 3-phosphatase PTEN convert...\n",
       "120      1           2  [CLS]Combination nicotine replacement therapie...\n",
       "121      2           2  [CLS]Women with a lower birth weight are more ...\n",
       "\n",
       "[122 rows x 3 columns]"
      ]
     },
     "execution_count": 33,
     "metadata": {},
     "output_type": "execute_result"
    }
   ],
   "source": [
    "df_test.insert(1, 'prediction', classifications)\n",
    "df_test"
   ]
  },
  {
   "cell_type": "code",
   "execution_count": 40,
   "id": "cbe73f7b",
   "metadata": {},
   "outputs": [
    {
     "data": {
      "text/html": [
       "<div>\n",
       "<style scoped>\n",
       "    .dataframe tbody tr th:only-of-type {\n",
       "        vertical-align: middle;\n",
       "    }\n",
       "\n",
       "    .dataframe tbody tr th {\n",
       "        vertical-align: top;\n",
       "    }\n",
       "\n",
       "    .dataframe thead th {\n",
       "        text-align: right;\n",
       "    }\n",
       "</style>\n",
       "<table border=\"1\" class=\"dataframe\">\n",
       "  <thead>\n",
       "    <tr style=\"text-align: right;\">\n",
       "      <th></th>\n",
       "      <th>text</th>\n",
       "      <th>label</th>\n",
       "      <th>prediction</th>\n",
       "    </tr>\n",
       "  </thead>\n",
       "  <tbody>\n",
       "    <tr>\n",
       "      <th>5</th>\n",
       "      <td>[CLS]The genomic aberrations found in matastes...</td>\n",
       "      <td>2</td>\n",
       "      <td>1</td>\n",
       "    </tr>\n",
       "    <tr>\n",
       "      <th>18</th>\n",
       "      <td>[CLS]Genomic sequences involved in alternative...</td>\n",
       "      <td>2</td>\n",
       "      <td>0</td>\n",
       "    </tr>\n",
       "    <tr>\n",
       "      <th>24</th>\n",
       "      <td>[CLS]High-sensitivity cardiac troponin T (HSCT...</td>\n",
       "      <td>1</td>\n",
       "      <td>0</td>\n",
       "    </tr>\n",
       "    <tr>\n",
       "      <th>52</th>\n",
       "      <td>[CLS]The most prevalent adverse events to Sema...</td>\n",
       "      <td>2</td>\n",
       "      <td>0</td>\n",
       "    </tr>\n",
       "    <tr>\n",
       "      <th>62</th>\n",
       "      <td>[CLS]The most prevalent adverse events to Sema...</td>\n",
       "      <td>1</td>\n",
       "      <td>0</td>\n",
       "    </tr>\n",
       "    <tr>\n",
       "      <th>75</th>\n",
       "      <td>[CLS]Activation of the Rac1 homolog CED-10 kil...</td>\n",
       "      <td>1</td>\n",
       "      <td>0</td>\n",
       "    </tr>\n",
       "    <tr>\n",
       "      <th>76</th>\n",
       "      <td>[CLS]Alteration of origin firing causes change...</td>\n",
       "      <td>2</td>\n",
       "      <td>1</td>\n",
       "    </tr>\n",
       "    <tr>\n",
       "      <th>83</th>\n",
       "      <td>[CLS]Stiff substrates encourage mesodermal dif...</td>\n",
       "      <td>2</td>\n",
       "      <td>1</td>\n",
       "    </tr>\n",
       "    <tr>\n",
       "      <th>85</th>\n",
       "      <td>[CLS]UCB T cells maintain high TCR diversity a...</td>\n",
       "      <td>1</td>\n",
       "      <td>2</td>\n",
       "    </tr>\n",
       "    <tr>\n",
       "      <th>86</th>\n",
       "      <td>[CLS]Citrullinated proteins externalized in ne...</td>\n",
       "      <td>2</td>\n",
       "      <td>1</td>\n",
       "    </tr>\n",
       "    <tr>\n",
       "      <th>104</th>\n",
       "      <td>[CLS]Occipital activation levels are associate...</td>\n",
       "      <td>0</td>\n",
       "      <td>1</td>\n",
       "    </tr>\n",
       "    <tr>\n",
       "      <th>116</th>\n",
       "      <td>[CLS]Downregulation and mislocalization of Scr...</td>\n",
       "      <td>0</td>\n",
       "      <td>2</td>\n",
       "    </tr>\n",
       "    <tr>\n",
       "      <th>119</th>\n",
       "      <td>[CLS]Inositol lipid 3-phosphatase PTEN convert...</td>\n",
       "      <td>1</td>\n",
       "      <td>0</td>\n",
       "    </tr>\n",
       "    <tr>\n",
       "      <th>120</th>\n",
       "      <td>[CLS]Combination nicotine replacement therapie...</td>\n",
       "      <td>1</td>\n",
       "      <td>2</td>\n",
       "    </tr>\n",
       "  </tbody>\n",
       "</table>\n",
       "</div>"
      ],
      "text/plain": [
       "                                                  text  label  prediction\n",
       "5    [CLS]The genomic aberrations found in matastes...      2           1\n",
       "18   [CLS]Genomic sequences involved in alternative...      2           0\n",
       "24   [CLS]High-sensitivity cardiac troponin T (HSCT...      1           0\n",
       "52   [CLS]The most prevalent adverse events to Sema...      2           0\n",
       "62   [CLS]The most prevalent adverse events to Sema...      1           0\n",
       "75   [CLS]Activation of the Rac1 homolog CED-10 kil...      1           0\n",
       "76   [CLS]Alteration of origin firing causes change...      2           1\n",
       "83   [CLS]Stiff substrates encourage mesodermal dif...      2           1\n",
       "85   [CLS]UCB T cells maintain high TCR diversity a...      1           2\n",
       "86   [CLS]Citrullinated proteins externalized in ne...      2           1\n",
       "104  [CLS]Occipital activation levels are associate...      0           1\n",
       "116  [CLS]Downregulation and mislocalization of Scr...      0           2\n",
       "119  [CLS]Inositol lipid 3-phosphatase PTEN convert...      1           0\n",
       "120  [CLS]Combination nicotine replacement therapie...      1           2"
      ]
     },
     "execution_count": 40,
     "metadata": {},
     "output_type": "execute_result"
    }
   ],
   "source": [
    "df_errors = df_test[df_test['label']!=df_test['prediction']][['text','label','prediction']]\n",
    "df_errors"
   ]
  },
  {
   "cell_type": "code",
   "execution_count": 43,
   "id": "644ff4ed",
   "metadata": {},
   "outputs": [],
   "source": [
    "df_errors.to_csv('./errors_DeBERTa_4.csv')"
   ]
  }
 ],
 "metadata": {
  "kernelspec": {
   "display_name": "Python 3 (ipykernel)",
   "language": "python",
   "name": "python3"
  },
  "language_info": {
   "codemirror_mode": {
    "name": "ipython",
    "version": 3
   },
   "file_extension": ".py",
   "mimetype": "text/x-python",
   "name": "python",
   "nbconvert_exporter": "python",
   "pygments_lexer": "ipython3",
   "version": "3.9.12"
  }
 },
 "nbformat": 4,
 "nbformat_minor": 5
}
