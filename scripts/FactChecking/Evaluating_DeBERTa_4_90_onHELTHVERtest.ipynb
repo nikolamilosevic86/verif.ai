{
 "cells": [
  {
   "cell_type": "markdown",
   "id": "3754fca7",
   "metadata": {},
   "source": [
    "### Evaluation DeBERTa_4_90 on HEALTHVER_test dataset"
   ]
  },
  {
   "cell_type": "code",
   "execution_count": null,
   "id": "68886875",
   "metadata": {},
   "outputs": [],
   "source": [
    "import numpy as np\n",
    "import pandas as pd\n",
    "import time\n",
    "\n",
    "from sklearn.metrics import classification_report, confusion_matrix, accuracy_score, recall_score, precision_score, f1_score\n",
    "\n",
    "import datasets\n",
    "from datasets import Dataset\n",
    "from transformers import AutoTokenizer\n",
    "from transformers import DataCollatorWithPadding\n",
    "from transformers import AutoModelForSequenceClassification, TrainingArguments, Trainer\n",
    "from transformers import EarlyStoppingCallback, IntervalStrategy"
   ]
  },
  {
   "cell_type": "code",
   "execution_count": 1,
   "id": "d7905d53",
   "metadata": {},
   "outputs": [
    {
     "ename": "FileNotFoundError",
     "evalue": "[Errno 2] No such file or directory: './healthver_test.csv'",
     "output_type": "error",
     "traceback": [
      "\u001b[0;31m---------------------------------------------------------------------------\u001b[0m",
      "\u001b[0;31mFileNotFoundError\u001b[0m                         Traceback (most recent call last)",
      "Input \u001b[0;32mIn [1]\u001b[0m, in \u001b[0;36m<cell line: 1>\u001b[0;34m()\u001b[0m\n\u001b[0;32m----> 1\u001b[0m \u001b[38;5;28;01mwith\u001b[39;00m \u001b[38;5;28;43mopen\u001b[39;49m\u001b[43m(\u001b[49m\u001b[38;5;124;43m'\u001b[39;49m\u001b[38;5;124;43m./healthver_test.csv\u001b[39;49m\u001b[38;5;124;43m'\u001b[39;49m\u001b[43m,\u001b[49m\u001b[43m \u001b[49m\u001b[38;5;124;43m'\u001b[39;49m\u001b[38;5;124;43mrb\u001b[39;49m\u001b[38;5;124;43m'\u001b[39;49m\u001b[43m)\u001b[49m \u001b[38;5;28;01mas\u001b[39;00m fh:\n\u001b[1;32m      2\u001b[0m     df_testiranje \u001b[38;5;241m=\u001b[39m pd\u001b[38;5;241m.\u001b[39mread_csv(fh)\n\u001b[1;32m      3\u001b[0m df_testiranje\n",
      "\u001b[0;31mFileNotFoundError\u001b[0m: [Errno 2] No such file or directory: './healthver_test.csv'"
     ]
    }
   ],
   "source": [
    "# Download HEALTHVER test dataset in the folder containing this script\n",
    "\n",
    "with open('./healthver_test.csv', 'rb') as fh:\n",
    "    df_testiranje = pd.read_csv(fh)\n",
    "df_testiranje"
   ]
  },
  {
   "cell_type": "code",
   "execution_count": 32,
   "id": "e64f4916",
   "metadata": {},
   "outputs": [
    {
     "data": {
      "text/html": [
       "<div>\n",
       "<style scoped>\n",
       "    .dataframe tbody tr th:only-of-type {\n",
       "        vertical-align: middle;\n",
       "    }\n",
       "\n",
       "    .dataframe tbody tr th {\n",
       "        vertical-align: top;\n",
       "    }\n",
       "\n",
       "    .dataframe thead th {\n",
       "        text-align: right;\n",
       "    }\n",
       "</style>\n",
       "<table border=\"1\" class=\"dataframe\">\n",
       "  <thead>\n",
       "    <tr style=\"text-align: right;\">\n",
       "      <th></th>\n",
       "      <th>id</th>\n",
       "      <th>evidence</th>\n",
       "      <th>claim</th>\n",
       "      <th>label</th>\n",
       "      <th>topic_ip</th>\n",
       "      <th>question</th>\n",
       "    </tr>\n",
       "  </thead>\n",
       "  <tbody>\n",
       "    <tr>\n",
       "      <th>0</th>\n",
       "      <td>12813</td>\n",
       "      <td>In this study, we collected blood from COVID-1...</td>\n",
       "      <td>For most patients, COVID-19 begins and ends in...</td>\n",
       "      <td>0</td>\n",
       "      <td>3</td>\n",
       "      <td>will SARS-CoV2 infected people develop immunity?</td>\n",
       "    </tr>\n",
       "    <tr>\n",
       "      <th>1</th>\n",
       "      <td>11044</td>\n",
       "      <td>However, wearing N95 respirators can prevent ...</td>\n",
       "      <td>N95 masks are better than clothe masks</td>\n",
       "      <td>1</td>\n",
       "      <td>18</td>\n",
       "      <td>what are the best masks for preventing infecti...</td>\n",
       "    </tr>\n",
       "    <tr>\n",
       "      <th>2</th>\n",
       "      <td>1590</td>\n",
       "      <td>Lack of personal protective equipment was cite...</td>\n",
       "      <td>Unexpected Cause of Death in Younger COVID-19 ...</td>\n",
       "      <td>2</td>\n",
       "      <td>4</td>\n",
       "      <td>how do people die from the coronavirus?</td>\n",
       "    </tr>\n",
       "    <tr>\n",
       "      <th>3</th>\n",
       "      <td>7720</td>\n",
       "      <td>This in vitro study demonstrated that irradiat...</td>\n",
       "      <td>Ultraviolet lamps kill the COVID-19 virus.</td>\n",
       "      <td>1</td>\n",
       "      <td>73</td>\n",
       "      <td>Does UV light help in preventing covid-19?</td>\n",
       "    </tr>\n",
       "    <tr>\n",
       "      <th>4</th>\n",
       "      <td>10528</td>\n",
       "      <td>The most common coronaviruses may well survive...</td>\n",
       "      <td>the virus can stay on surfaces long enough to ...</td>\n",
       "      <td>1</td>\n",
       "      <td>16</td>\n",
       "      <td>touching a contaminated surface will not make ...</td>\n",
       "    </tr>\n",
       "    <tr>\n",
       "      <th>...</th>\n",
       "      <td>...</td>\n",
       "      <td>...</td>\n",
       "      <td>...</td>\n",
       "      <td>...</td>\n",
       "      <td>...</td>\n",
       "      <td>...</td>\n",
       "    </tr>\n",
       "    <tr>\n",
       "      <th>1818</th>\n",
       "      <td>13566</td>\n",
       "      <td>Thus both qualitative and quantitative feature...</td>\n",
       "      <td>The immune system, noticing the infection, fla...</td>\n",
       "      <td>0</td>\n",
       "      <td>3</td>\n",
       "      <td>will SARS-CoV2 infected people develop immunity?</td>\n",
       "    </tr>\n",
       "    <tr>\n",
       "      <th>1819</th>\n",
       "      <td>12749</td>\n",
       "      <td>In this study, we collected blood from COVID-1...</td>\n",
       "      <td>Vitamins C and D boost our immune systems, aid...</td>\n",
       "      <td>0</td>\n",
       "      <td>3</td>\n",
       "      <td>will SARS-CoV2 infected people develop immunity?</td>\n",
       "    </tr>\n",
       "    <tr>\n",
       "      <th>1820</th>\n",
       "      <td>12586</td>\n",
       "      <td>Distinguishing pre-existing and de novo antibo...</td>\n",
       "      <td>a popular treatment to tamp down the immune sy...</td>\n",
       "      <td>0</td>\n",
       "      <td>3</td>\n",
       "      <td>will SARS-CoV2 infected people develop immunity?</td>\n",
       "    </tr>\n",
       "    <tr>\n",
       "      <th>1821</th>\n",
       "      <td>7773</td>\n",
       "      <td>Data indicate CVIR demonstrates significant tr...</td>\n",
       "      <td>Covid-19 is infecting quite a few people, many...</td>\n",
       "      <td>0</td>\n",
       "      <td>75</td>\n",
       "      <td>Can smoking cannabis (weed) help in preventing...</td>\n",
       "    </tr>\n",
       "    <tr>\n",
       "      <th>1822</th>\n",
       "      <td>373</td>\n",
       "      <td>However, the source(s) and transmission routin...</td>\n",
       "      <td>Various coronaviruses infect numerous species,...</td>\n",
       "      <td>0</td>\n",
       "      <td>1</td>\n",
       "      <td>what is the origin of COVID-19</td>\n",
       "    </tr>\n",
       "  </tbody>\n",
       "</table>\n",
       "<p>1823 rows × 6 columns</p>\n",
       "</div>"
      ],
      "text/plain": [
       "         id                                           evidence  \\\n",
       "0     12813  In this study, we collected blood from COVID-1...   \n",
       "1     11044   However, wearing N95 respirators can prevent ...   \n",
       "2      1590  Lack of personal protective equipment was cite...   \n",
       "3      7720  This in vitro study demonstrated that irradiat...   \n",
       "4     10528  The most common coronaviruses may well survive...   \n",
       "...     ...                                                ...   \n",
       "1818  13566  Thus both qualitative and quantitative feature...   \n",
       "1819  12749  In this study, we collected blood from COVID-1...   \n",
       "1820  12586  Distinguishing pre-existing and de novo antibo...   \n",
       "1821   7773  Data indicate CVIR demonstrates significant tr...   \n",
       "1822    373  However, the source(s) and transmission routin...   \n",
       "\n",
       "                                                  claim  label  topic_ip  \\\n",
       "0     For most patients, COVID-19 begins and ends in...      0         3   \n",
       "1                N95 masks are better than clothe masks      1        18   \n",
       "2     Unexpected Cause of Death in Younger COVID-19 ...      2         4   \n",
       "3            Ultraviolet lamps kill the COVID-19 virus.      1        73   \n",
       "4     the virus can stay on surfaces long enough to ...      1        16   \n",
       "...                                                 ...    ...       ...   \n",
       "1818  The immune system, noticing the infection, fla...      0         3   \n",
       "1819  Vitamins C and D boost our immune systems, aid...      0         3   \n",
       "1820  a popular treatment to tamp down the immune sy...      0         3   \n",
       "1821  Covid-19 is infecting quite a few people, many...      0        75   \n",
       "1822  Various coronaviruses infect numerous species,...      0         1   \n",
       "\n",
       "                                               question  \n",
       "0      will SARS-CoV2 infected people develop immunity?  \n",
       "1     what are the best masks for preventing infecti...  \n",
       "2               how do people die from the coronavirus?  \n",
       "3            Does UV light help in preventing covid-19?  \n",
       "4     touching a contaminated surface will not make ...  \n",
       "...                                                 ...  \n",
       "1818   will SARS-CoV2 infected people develop immunity?  \n",
       "1819   will SARS-CoV2 infected people develop immunity?  \n",
       "1820   will SARS-CoV2 infected people develop immunity?  \n",
       "1821  Can smoking cannabis (weed) help in preventing...  \n",
       "1822                     what is the origin of COVID-19  \n",
       "\n",
       "[1823 rows x 6 columns]"
      ]
     },
     "execution_count": 32,
     "metadata": {},
     "output_type": "execute_result"
    }
   ],
   "source": [
    "df_testiranje['label'] = df_testiranje['label'].apply(lambda x: 0 if x=='Neutral' else 1 if x=='Supports' else 2)\n",
    "df_testiranje"
   ]
  },
  {
   "cell_type": "code",
   "execution_count": 33,
   "id": "f90c45e7",
   "metadata": {},
   "outputs": [
    {
     "data": {
      "text/html": [
       "<div>\n",
       "<style scoped>\n",
       "    .dataframe tbody tr th:only-of-type {\n",
       "        vertical-align: middle;\n",
       "    }\n",
       "\n",
       "    .dataframe tbody tr th {\n",
       "        vertical-align: top;\n",
       "    }\n",
       "\n",
       "    .dataframe thead th {\n",
       "        text-align: right;\n",
       "    }\n",
       "</style>\n",
       "<table border=\"1\" class=\"dataframe\">\n",
       "  <thead>\n",
       "    <tr style=\"text-align: right;\">\n",
       "      <th></th>\n",
       "      <th>id</th>\n",
       "      <th>label</th>\n",
       "      <th>text</th>\n",
       "    </tr>\n",
       "  </thead>\n",
       "  <tbody>\n",
       "    <tr>\n",
       "      <th>0</th>\n",
       "      <td>12813</td>\n",
       "      <td>0</td>\n",
       "      <td>[CLS]For most patients, COVID-19 begins and en...</td>\n",
       "    </tr>\n",
       "    <tr>\n",
       "      <th>1</th>\n",
       "      <td>11044</td>\n",
       "      <td>1</td>\n",
       "      <td>[CLS]N95 masks are better than clothe masks[SE...</td>\n",
       "    </tr>\n",
       "    <tr>\n",
       "      <th>2</th>\n",
       "      <td>1590</td>\n",
       "      <td>2</td>\n",
       "      <td>[CLS]Unexpected Cause of Death in Younger COVI...</td>\n",
       "    </tr>\n",
       "    <tr>\n",
       "      <th>3</th>\n",
       "      <td>7720</td>\n",
       "      <td>1</td>\n",
       "      <td>[CLS]Ultraviolet lamps kill the COVID-19 virus...</td>\n",
       "    </tr>\n",
       "    <tr>\n",
       "      <th>4</th>\n",
       "      <td>10528</td>\n",
       "      <td>1</td>\n",
       "      <td>[CLS]the virus can stay on surfaces long enoug...</td>\n",
       "    </tr>\n",
       "    <tr>\n",
       "      <th>...</th>\n",
       "      <td>...</td>\n",
       "      <td>...</td>\n",
       "      <td>...</td>\n",
       "    </tr>\n",
       "    <tr>\n",
       "      <th>1818</th>\n",
       "      <td>13566</td>\n",
       "      <td>0</td>\n",
       "      <td>[CLS]The immune system, noticing the infection...</td>\n",
       "    </tr>\n",
       "    <tr>\n",
       "      <th>1819</th>\n",
       "      <td>12749</td>\n",
       "      <td>0</td>\n",
       "      <td>[CLS]Vitamins C and D boost our immune systems...</td>\n",
       "    </tr>\n",
       "    <tr>\n",
       "      <th>1820</th>\n",
       "      <td>12586</td>\n",
       "      <td>0</td>\n",
       "      <td>[CLS]a popular treatment to tamp down the immu...</td>\n",
       "    </tr>\n",
       "    <tr>\n",
       "      <th>1821</th>\n",
       "      <td>7773</td>\n",
       "      <td>0</td>\n",
       "      <td>[CLS]Covid-19 is infecting quite a few people,...</td>\n",
       "    </tr>\n",
       "    <tr>\n",
       "      <th>1822</th>\n",
       "      <td>373</td>\n",
       "      <td>0</td>\n",
       "      <td>[CLS]Various coronaviruses infect numerous spe...</td>\n",
       "    </tr>\n",
       "  </tbody>\n",
       "</table>\n",
       "<p>1823 rows × 3 columns</p>\n",
       "</div>"
      ],
      "text/plain": [
       "         id  label                                               text\n",
       "0     12813      0  [CLS]For most patients, COVID-19 begins and en...\n",
       "1     11044      1  [CLS]N95 masks are better than clothe masks[SE...\n",
       "2      1590      2  [CLS]Unexpected Cause of Death in Younger COVI...\n",
       "3      7720      1  [CLS]Ultraviolet lamps kill the COVID-19 virus...\n",
       "4     10528      1  [CLS]the virus can stay on surfaces long enoug...\n",
       "...     ...    ...                                                ...\n",
       "1818  13566      0  [CLS]The immune system, noticing the infection...\n",
       "1819  12749      0  [CLS]Vitamins C and D boost our immune systems...\n",
       "1820  12586      0  [CLS]a popular treatment to tamp down the immu...\n",
       "1821   7773      0  [CLS]Covid-19 is infecting quite a few people,...\n",
       "1822    373      0  [CLS]Various coronaviruses infect numerous spe...\n",
       "\n",
       "[1823 rows x 3 columns]"
      ]
     },
     "execution_count": 33,
     "metadata": {},
     "output_type": "execute_result"
    }
   ],
   "source": [
    "df_testiranje['text'] = tokenizer.cls_token + df_testiranje['claim'] + tokenizer.sep_token + df_testiranje['evidence'] + tokenizer.sep_token\n",
    "df_testiranje.drop(columns=['claim', 'evidence', 'topic_ip', 'question'], inplace=True)\n",
    "df_testiranje"
   ]
  },
  {
   "cell_type": "code",
   "execution_count": 34,
   "id": "8654ffb3",
   "metadata": {},
   "outputs": [],
   "source": [
    "Dataset_test = Dataset.from_pandas(df_testiranje)"
   ]
  },
  {
   "cell_type": "code",
   "execution_count": 35,
   "id": "c53d0280",
   "metadata": {},
   "outputs": [],
   "source": [
    "test_dataset_dict = datasets.DatasetDict({\n",
    "    'test': Dataset_test\n",
    "})"
   ]
  },
  {
   "cell_type": "code",
   "execution_count": 36,
   "id": "6add0965",
   "metadata": {},
   "outputs": [
    {
     "data": {
      "application/vnd.jupyter.widget-view+json": {
       "model_id": "cf700eb9067443e8a5633ebb30b878c1",
       "version_major": 2,
       "version_minor": 0
      },
      "text/plain": [
       "  0%|          | 0/2 [00:00<?, ?ba/s]"
      ]
     },
     "metadata": {},
     "output_type": "display_data"
    }
   ],
   "source": [
    "test_tokenized = test_dataset_dict.map(preprocess_function, batched=True)"
   ]
  },
  {
   "cell_type": "code",
   "execution_count": 37,
   "id": "06b5e2f5",
   "metadata": {},
   "outputs": [
    {
     "data": {
      "text/plain": [
       "DatasetDict({\n",
       "    test: Dataset({\n",
       "        features: ['id', 'label', 'text', 'input_ids', 'token_type_ids', 'attention_mask'],\n",
       "        num_rows: 1823\n",
       "    })\n",
       "})"
      ]
     },
     "execution_count": 37,
     "metadata": {},
     "output_type": "execute_result"
    }
   ],
   "source": [
    "test_tokenized"
   ]
  },
  {
   "cell_type": "code",
   "execution_count": null,
   "id": "3a502739",
   "metadata": {},
   "outputs": [],
   "source": [
    "newtrainer = AutoModelForSequenceClassification.from_pretrained('./DeBERTa_early4_90_new', num_labels=3)\n",
    "trainer = Trainer(newtrainer)"
   ]
  },
  {
   "cell_type": "code",
   "execution_count": 38,
   "id": "bf02ff07",
   "metadata": {},
   "outputs": [
    {
     "data": {
      "text/html": [],
      "text/plain": [
       "<IPython.core.display.HTML object>"
      ]
     },
     "metadata": {},
     "output_type": "display_data"
    }
   ],
   "source": [
    "predictions = trainer.predict(test_tokenized['test'])"
   ]
  },
  {
   "cell_type": "code",
   "execution_count": 39,
   "id": "fbe91a09",
   "metadata": {},
   "outputs": [],
   "source": [
    "new_classifications = []\n",
    "for pred in predictions[0]:\n",
    "    new_classifications.append(np.argmax(pred))"
   ]
  },
  {
   "cell_type": "code",
   "execution_count": 40,
   "id": "3fa7df48",
   "metadata": {},
   "outputs": [
    {
     "name": "stdout",
     "output_type": "stream",
     "text": [
      "              precision    recall  f1-score   support\n",
      "\n",
      " NO_EVIDENCE       0.47      0.88      0.61       727\n",
      "     SUPPORT       0.67      0.29      0.40       671\n",
      "  CONTRADICT       0.69      0.27      0.39       425\n",
      "\n",
      "    accuracy                           0.52      1823\n",
      "   macro avg       0.61      0.48      0.47      1823\n",
      "weighted avg       0.59      0.52      0.48      1823\n",
      "\n"
     ]
    }
   ],
   "source": [
    "target_names = ['NO_EVIDENCE', 'SUPPORT', 'CONTRADICT']\n",
    "print(classification_report(test_tokenized[\"test\"]['label'], new_classifications, target_names=target_names))"
   ]
  },
  {
   "cell_type": "code",
   "execution_count": 41,
   "id": "6b728659",
   "metadata": {},
   "outputs": [
    {
     "data": {
      "text/plain": [
       "array([[643,  64,  20],\n",
       "       [445, 195,  31],\n",
       "       [278,  33, 114]])"
      ]
     },
     "execution_count": 41,
     "metadata": {},
     "output_type": "execute_result"
    }
   ],
   "source": [
    "confusion_matrix(test_tokenized[\"test\"]['label'], new_classifications)"
   ]
  }
 ],
 "metadata": {
  "kernelspec": {
   "display_name": "Python 3 (ipykernel)",
   "language": "python",
   "name": "python3"
  },
  "language_info": {
   "codemirror_mode": {
    "name": "ipython",
    "version": 3
   },
   "file_extension": ".py",
   "mimetype": "text/x-python",
   "name": "python",
   "nbconvert_exporter": "python",
   "pygments_lexer": "ipython3",
   "version": "3.9.12"
  }
 },
 "nbformat": 4,
 "nbformat_minor": 5
}
