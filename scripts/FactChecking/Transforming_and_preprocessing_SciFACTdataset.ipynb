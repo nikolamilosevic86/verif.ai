{
 "cells": [
  {
   "cell_type": "code",
   "execution_count": 1,
   "id": "f15d68b0",
   "metadata": {},
   "outputs": [],
   "source": [
    "import pandas as pd\n",
    "from datasets import load_dataset\n",
    "from datasets import Dataset"
   ]
  },
  {
   "cell_type": "code",
   "execution_count": 2,
   "id": "f835a04a",
   "metadata": {},
   "outputs": [
    {
     "name": "stderr",
     "output_type": "stream",
     "text": [
      "Found cached dataset scifact (/home/milos.kosprdic.ivi/.cache/huggingface/datasets/allenai___scifact/corpus/1.0.0/15660e43ecfb3f7420850027005a63611abb2d401e9746b4059c1260745d9831)\n"
     ]
    },
    {
     "data": {
      "application/vnd.jupyter.widget-view+json": {
       "model_id": "5b7a5c4df7e74900b76fe0c9cb3c5761",
       "version_major": 2,
       "version_minor": 0
      },
      "text/plain": [
       "  0%|          | 0/1 [00:00<?, ?it/s]"
      ]
     },
     "metadata": {},
     "output_type": "display_data"
    },
    {
     "name": "stderr",
     "output_type": "stream",
     "text": [
      "Found cached dataset scifact (/home/milos.kosprdic.ivi/.cache/huggingface/datasets/allenai___scifact/claims/1.0.0/15660e43ecfb3f7420850027005a63611abb2d401e9746b4059c1260745d9831)\n"
     ]
    },
    {
     "data": {
      "application/vnd.jupyter.widget-view+json": {
       "model_id": "ff5ee72e1381485cb7f2d66b1795f29e",
       "version_major": 2,
       "version_minor": 0
      },
      "text/plain": [
       "  0%|          | 0/3 [00:00<?, ?it/s]"
      ]
     },
     "metadata": {},
     "output_type": "display_data"
    }
   ],
   "source": [
    "corpus = load_dataset(\"allenai/scifact\",\"corpus\")\n",
    "dataset = load_dataset(\"allenai/scifact\",\"claims\")"
   ]
  },
  {
   "cell_type": "code",
   "execution_count": 81,
   "id": "1efc4baf",
   "metadata": {},
   "outputs": [],
   "source": [
    "corpus_strDict = dict()\n",
    "\n",
    "for row in corpus['train']:\n",
    "    \n",
    "    if row['title'].strip().endswith('.'):\n",
    "        title = row['title'].strip()\n",
    "    elif row['title'].strip().endswith('?'):\n",
    "        title = row['title'].strip()\n",
    "    elif row['title'].strip().endswith('!'):\n",
    "        title = row['title'].strip()\n",
    "    elif row['title'].strip().endswith(','):\n",
    "        title = row['title'].strip()[:-1]+'.'    \n",
    "    elif row['title'].strip().endswith('☆'):\n",
    "        title = row['title'].strip()[:-1]+'.'\n",
    "    elif row['title'].strip().endswith('*'):\n",
    "        title = row['title'].strip()[:-1]+'.'\n",
    "    elif row['title'].strip().endswith(':'):\n",
    "        title = row['title'].strip()[:-1]+'.'    \n",
    "    elif row['title'].strip().endswith('�'):\n",
    "        title = row['title'].strip()[:-1].rstrip()+'.'\n",
    "    elif row['title'].strip().endswith('\"'):\n",
    "        title = row['title'].strip()[1:-1]+'.'\n",
    "    elif row['title'].strip().endswith(')'):\n",
    "        title = row['title'].strip()+'.'    \n",
    "    else:\n",
    "        title = row['title'].strip()+'.'\n",
    "\n",
    "    abstract = str()\n",
    "    \n",
    "    for sent in row['abstract']:\n",
    "        abstract = abstract + sent.strip() + ' '\n",
    "    \n",
    "    if abstract.rstrip().endswith(']'):\n",
    "        abstract = abstract.rstrip().rpartition('[')[0].rstrip()\n",
    "    elif abstract.rstrip().endswith(')'):\n",
    "        abstract = abstract.rstrip().rpartition('(')[0].rstrip()\n",
    "    elif abstract.rstrip().endswith('\"'):\n",
    "        abstract = abstract.rstrip()[:-3]+'\"'+'.'\n",
    "    elif abstract.rstrip().endswith('”'):\n",
    "        abstract = abstract.rstrip()[:-3]+'”'+'.'\n",
    "    elif abstract.rstrip().endswith('■'):\n",
    "        abstract = abstract.rstrip()[:-2]\n",
    "    else:\n",
    "        abstract = abstract.rstrip()\n",
    "    \n",
    "    corpus_strDict[row['doc_id']] = {'title':title,'abstract':abstract.rstrip()}"
   ]
  },
  {
   "cell_type": "markdown",
   "id": "29f4910a",
   "metadata": {},
   "source": [
    "## Transformation of the TRAIN subset of SciFACT dataset"
   ]
  },
  {
   "cell_type": "code",
   "execution_count": 107,
   "id": "aa98ac85",
   "metadata": {},
   "outputs": [],
   "source": [
    "id2label = {0: \"NO_EVIDENCE\", 1: \"SUPPORT\", 2: \"CONTRADICT\"}\n",
    "label2id = {\"NO_EVIDENCE\": 0, \"SUPPORT\": 1, \"CONTRADICT\": 2}\n",
    "\n",
    "#new_dataset = pd.DataFrame(columns=['claim','abstract','label'])\n",
    "dataset_train_df = pd.DataFrame(columns=['claim', 'text', 'label'])\n",
    "\n",
    "cnt = 0\n",
    "\n",
    "for item in dataset['train']:\n",
    "    \n",
    "    if item['evidence_doc_id'] == '':\n",
    "        for i in range(len(item['cited_doc_ids'])):\n",
    "            doc_id = item['cited_doc_ids'][i]\n",
    "            if item['evidence_label'] == '':\n",
    "                label = \"NO_EVIDENCE\"\n",
    "            claim = item['claim']\n",
    "            abstract = corpus_strDict[doc_id]['title'].rstrip()+' '+corpus_strDict[doc_id]['abstract']\n",
    "            #new_dataset.loc[cnt] = pd.Series({'claim':claim, 'abstract':abstract, 'label':label2id[label]})\n",
    "            dataset_train_df.loc[cnt] = pd.Series({'claim': claim, 'text': abstract, 'label':label2id[label]})\n",
    "            #print(dataset_train_df)\n",
    "            cnt += 1\n",
    "    \n",
    "    else:\n",
    "        doc_id = int(item['evidence_doc_id'])\n",
    "        if item['evidence_label'] == 'SUPPORT':\n",
    "            label = 'SUPPORT'\n",
    "        elif item['evidence_label'] == 'CONTRADICT':\n",
    "            label = 'CONTRADICT'\n",
    "    \n",
    "        claim = item['claim']\n",
    "        abstract = corpus_strDict[doc_id]['title'].rstrip()+' '+corpus_strDict[doc_id]['abstract']\n",
    "        #new_dataset.loc[cnt] = pd.Series({'claim':claim, 'abstract':abstract, 'label':label2id[label]})\n",
    "        dataset_train_df.loc[cnt] = pd.Series({'claim': claim, 'text': abstract, 'label':label2id[label]})\n",
    "\n",
    "        cnt += 1\n",
    "    \n",
    "dataset_train_df = dataset_train_df.reset_index(drop=True)"
   ]
  },
  {
   "cell_type": "code",
   "execution_count": 104,
   "id": "74385261",
   "metadata": {},
   "outputs": [
    {
     "data": {
      "text/html": [
       "<div>\n",
       "<style scoped>\n",
       "    .dataframe tbody tr th:only-of-type {\n",
       "        vertical-align: middle;\n",
       "    }\n",
       "\n",
       "    .dataframe tbody tr th {\n",
       "        vertical-align: top;\n",
       "    }\n",
       "\n",
       "    .dataframe thead th {\n",
       "        text-align: right;\n",
       "    }\n",
       "</style>\n",
       "<table border=\"1\" class=\"dataframe\">\n",
       "  <thead>\n",
       "    <tr style=\"text-align: right;\">\n",
       "      <th></th>\n",
       "      <th>claim</th>\n",
       "      <th>text</th>\n",
       "      <th>label</th>\n",
       "    </tr>\n",
       "  </thead>\n",
       "  <tbody>\n",
       "    <tr>\n",
       "      <th>0</th>\n",
       "      <td>0-dimensional biomaterials lack inductive prop...</td>\n",
       "      <td>New opportunities: the use of nanotechnologies...</td>\n",
       "      <td>0</td>\n",
       "    </tr>\n",
       "    <tr>\n",
       "      <th>1</th>\n",
       "      <td>1 in 5 million in UK have abnormal PrP positiv...</td>\n",
       "      <td>Prevalent abnormal prion protein in human appe...</td>\n",
       "      <td>2</td>\n",
       "    </tr>\n",
       "    <tr>\n",
       "      <th>2</th>\n",
       "      <td>1-1% of colorectal cancer patients are diagnos...</td>\n",
       "      <td>Relation between Medicare screening reimbursem...</td>\n",
       "      <td>0</td>\n",
       "    </tr>\n",
       "    <tr>\n",
       "      <th>3</th>\n",
       "      <td>10% of sudden infant death syndrome (SIDS) dea...</td>\n",
       "      <td>Sudden infant death syndrome. Despite declines...</td>\n",
       "      <td>0</td>\n",
       "    </tr>\n",
       "    <tr>\n",
       "      <th>4</th>\n",
       "      <td>32% of liver transplantation programs required...</td>\n",
       "      <td>Liver transplantation and opioid dependence. C...</td>\n",
       "      <td>1</td>\n",
       "    </tr>\n",
       "    <tr>\n",
       "      <th>...</th>\n",
       "      <td>...</td>\n",
       "      <td>...</td>\n",
       "      <td>...</td>\n",
       "    </tr>\n",
       "    <tr>\n",
       "      <th>1280</th>\n",
       "      <td>siRNA knockdown of A20 slows tumor progression...</td>\n",
       "      <td>A20 is overexpressed in glioma cells and may s...</td>\n",
       "      <td>1</td>\n",
       "    </tr>\n",
       "    <tr>\n",
       "      <th>1283</th>\n",
       "      <td>taa1 tar1 tar2 triple mutants in Arabidopsis d...</td>\n",
       "      <td>TAA1-Mediated Auxin Biosynthesis Is Essential ...</td>\n",
       "      <td>0</td>\n",
       "    </tr>\n",
       "    <tr>\n",
       "      <th>1284</th>\n",
       "      <td>β-sheet opening occurs during pleurotolysin po...</td>\n",
       "      <td>Conformational Changes during Pore Formation b...</td>\n",
       "      <td>1</td>\n",
       "    </tr>\n",
       "    <tr>\n",
       "      <th>1285</th>\n",
       "      <td>β1/Ketel is able to bind microtubules.</td>\n",
       "      <td>A Microtubule Interactome: Complexes with Role...</td>\n",
       "      <td>0</td>\n",
       "    </tr>\n",
       "    <tr>\n",
       "      <th>1286</th>\n",
       "      <td>β1/Ketel is able to bind microtubules.</td>\n",
       "      <td>P446L-importin-beta inhibits nuclear envelope ...</td>\n",
       "      <td>0</td>\n",
       "    </tr>\n",
       "  </tbody>\n",
       "</table>\n",
       "<p>891 rows × 3 columns</p>\n",
       "</div>"
      ],
      "text/plain": [
       "                                                  claim  \\\n",
       "0     0-dimensional biomaterials lack inductive prop...   \n",
       "1     1 in 5 million in UK have abnormal PrP positiv...   \n",
       "2     1-1% of colorectal cancer patients are diagnos...   \n",
       "3     10% of sudden infant death syndrome (SIDS) dea...   \n",
       "4     32% of liver transplantation programs required...   \n",
       "...                                                 ...   \n",
       "1280  siRNA knockdown of A20 slows tumor progression...   \n",
       "1283  taa1 tar1 tar2 triple mutants in Arabidopsis d...   \n",
       "1284  β-sheet opening occurs during pleurotolysin po...   \n",
       "1285             β1/Ketel is able to bind microtubules.   \n",
       "1286             β1/Ketel is able to bind microtubules.   \n",
       "\n",
       "                                                   text label  \n",
       "0     New opportunities: the use of nanotechnologies...     0  \n",
       "1     Prevalent abnormal prion protein in human appe...     2  \n",
       "2     Relation between Medicare screening reimbursem...     0  \n",
       "3     Sudden infant death syndrome. Despite declines...     0  \n",
       "4     Liver transplantation and opioid dependence. C...     1  \n",
       "...                                                 ...   ...  \n",
       "1280  A20 is overexpressed in glioma cells and may s...     1  \n",
       "1283  TAA1-Mediated Auxin Biosynthesis Is Essential ...     0  \n",
       "1284  Conformational Changes during Pore Formation b...     1  \n",
       "1285  A Microtubule Interactome: Complexes with Role...     0  \n",
       "1286  P446L-importin-beta inhibits nuclear envelope ...     0  \n",
       "\n",
       "[891 rows x 3 columns]"
      ]
     },
     "execution_count": 104,
     "metadata": {},
     "output_type": "execute_result"
    }
   ],
   "source": [
    "dataset_train_df_deduplicated = dataset_train_df.drop_duplicates()\n",
    "dataset_train_df_deduplicated"
   ]
  },
  {
   "cell_type": "code",
   "execution_count": 109,
   "id": "614d02f5",
   "metadata": {},
   "outputs": [],
   "source": [
    "dataset_train_final = Dataset.from_pandas(dataset_train_df_deduplicated)"
   ]
  },
  {
   "cell_type": "code",
   "execution_count": 110,
   "id": "e895a52d",
   "metadata": {},
   "outputs": [
    {
     "data": {
      "text/plain": [
       "Dataset({\n",
       "    features: ['claim', 'text', 'label', '__index_level_0__'],\n",
       "    num_rows: 891\n",
       "})"
      ]
     },
     "execution_count": 110,
     "metadata": {},
     "output_type": "execute_result"
    }
   ],
   "source": [
    "dataset_train_final"
   ]
  },
  {
   "cell_type": "markdown",
   "id": "f394283b",
   "metadata": {},
   "source": [
    "## Transformation of the VALIDATION subset of SciFACT dataset"
   ]
  },
  {
   "cell_type": "code",
   "execution_count": 114,
   "id": "38e9ccc4",
   "metadata": {},
   "outputs": [],
   "source": [
    "id2label = {0: \"NO_EVIDENCE\", 1: \"SUPPORT\", 2: \"CONTRADICT\"}\n",
    "label2id = {\"NO_EVIDENCE\": 0, \"SUPPORT\": 1, \"CONTRADICT\": 2}\n",
    "\n",
    "#new_dataset = pd.DataFrame(columns=['claim','abstract','label'])\n",
    "dataset_valid_df = pd.DataFrame(columns=['claim', 'text', 'label'])\n",
    "\n",
    "cnt = 0\n",
    "\n",
    "for item in dataset['validation']:\n",
    "    \n",
    "    if item['evidence_doc_id'] == '':\n",
    "        for i in range(len(item['cited_doc_ids'])):\n",
    "            doc_id = item['cited_doc_ids'][i]\n",
    "            if item['evidence_label'] == '':\n",
    "                label = \"NO_EVIDENCE\"\n",
    "            claim = item['claim']\n",
    "            abstract = corpus_strDict[doc_id]['title'].rstrip()+' '+corpus_strDict[doc_id]['abstract']\n",
    "            #new_dataset.loc[cnt] = pd.Series({'claim':claim, 'abstract':abstract, 'label':label2id[label]})\n",
    "            dataset_valid_df.loc[cnt] = pd.Series({'claim': claim, 'text': abstract, 'label':label2id[label]})\n",
    "            #print(dataset_train_df)\n",
    "            cnt += 1\n",
    "    \n",
    "    else:\n",
    "        doc_id = int(item['evidence_doc_id'])\n",
    "        if item['evidence_label'] == 'SUPPORT':\n",
    "            label = 'SUPPORT'\n",
    "        elif item['evidence_label'] == 'CONTRADICT':\n",
    "            label = 'CONTRADICT'\n",
    "    \n",
    "        claim = item['claim']\n",
    "        abstract = corpus_strDict[doc_id]['title'].rstrip()+' '+corpus_strDict[doc_id]['abstract']\n",
    "        #new_dataset.loc[cnt] = pd.Series({'claim':claim, 'abstract':abstract, 'label':label2id[label]})\n",
    "        dataset_valid_df.loc[cnt] = pd.Series({'claim': claim, 'text': abstract, 'label':label2id[label]})\n",
    "\n",
    "        cnt += 1\n",
    "    \n",
    "dataset_valid_df = dataset_valid_df.reset_index(drop=True)"
   ]
  },
  {
   "cell_type": "code",
   "execution_count": 116,
   "id": "e8c23a6a",
   "metadata": {},
   "outputs": [
    {
     "data": {
      "text/html": [
       "<div>\n",
       "<style scoped>\n",
       "    .dataframe tbody tr th:only-of-type {\n",
       "        vertical-align: middle;\n",
       "    }\n",
       "\n",
       "    .dataframe tbody tr th {\n",
       "        vertical-align: top;\n",
       "    }\n",
       "\n",
       "    .dataframe thead th {\n",
       "        text-align: right;\n",
       "    }\n",
       "</style>\n",
       "<table border=\"1\" class=\"dataframe\">\n",
       "  <thead>\n",
       "    <tr style=\"text-align: right;\">\n",
       "      <th></th>\n",
       "      <th>claim</th>\n",
       "      <th>text</th>\n",
       "      <th>label</th>\n",
       "    </tr>\n",
       "  </thead>\n",
       "  <tbody>\n",
       "    <tr>\n",
       "      <th>0</th>\n",
       "      <td>0-dimensional biomaterials show inductive prop...</td>\n",
       "      <td>New opportunities: the use of nanotechnologies...</td>\n",
       "      <td>0</td>\n",
       "    </tr>\n",
       "    <tr>\n",
       "      <th>1</th>\n",
       "      <td>1,000 genomes project enables mapping of genet...</td>\n",
       "      <td>Rare Variants Create Synthetic Genome-Wide Ass...</td>\n",
       "      <td>1</td>\n",
       "    </tr>\n",
       "    <tr>\n",
       "      <th>3</th>\n",
       "      <td>1/2000 in UK have abnormal PrP positivity.</td>\n",
       "      <td>Prevalent abnormal prion protein in human appe...</td>\n",
       "      <td>1</td>\n",
       "    </tr>\n",
       "    <tr>\n",
       "      <th>4</th>\n",
       "      <td>5% of perinatal mortality is due to low birth ...</td>\n",
       "      <td>Estimates of global prevalence of childhood un...</td>\n",
       "      <td>0</td>\n",
       "    </tr>\n",
       "    <tr>\n",
       "      <th>5</th>\n",
       "      <td>A deficiency of vitamin B12 increases blood le...</td>\n",
       "      <td>Folic acid improves endothelial function in co...</td>\n",
       "      <td>0</td>\n",
       "    </tr>\n",
       "    <tr>\n",
       "      <th>...</th>\n",
       "      <td>...</td>\n",
       "      <td>...</td>\n",
       "      <td>...</td>\n",
       "    </tr>\n",
       "    <tr>\n",
       "      <th>446</th>\n",
       "      <td>Women with a higher birth weight are more like...</td>\n",
       "      <td>Intrauterine environments and breast cancer ri...</td>\n",
       "      <td>1</td>\n",
       "    </tr>\n",
       "    <tr>\n",
       "      <th>447</th>\n",
       "      <td>aPKCz causes tumour enhancement by affecting g...</td>\n",
       "      <td>Control of Nutrient Stress-Induced Metabolic R...</td>\n",
       "      <td>2</td>\n",
       "    </tr>\n",
       "    <tr>\n",
       "      <th>449</th>\n",
       "      <td>cSMAC formation enhances weak ligand signalling.</td>\n",
       "      <td>The stimulatory potency of T cell antigens is ...</td>\n",
       "      <td>1</td>\n",
       "    </tr>\n",
       "    <tr>\n",
       "      <th>450</th>\n",
       "      <td>mTORC2 regulates intracellular cysteine levels...</td>\n",
       "      <td>mTORC2 Regulates Amino Acid Metabolism in Canc...</td>\n",
       "      <td>1</td>\n",
       "    </tr>\n",
       "    <tr>\n",
       "      <th>451</th>\n",
       "      <td>p16INK4A accumulation is  linked to an abnorma...</td>\n",
       "      <td>Monitoring Tumorigenesis and Senescence In Viv...</td>\n",
       "      <td>0</td>\n",
       "    </tr>\n",
       "  </tbody>\n",
       "</table>\n",
       "<p>322 rows × 3 columns</p>\n",
       "</div>"
      ],
      "text/plain": [
       "                                                 claim  \\\n",
       "0    0-dimensional biomaterials show inductive prop...   \n",
       "1    1,000 genomes project enables mapping of genet...   \n",
       "3           1/2000 in UK have abnormal PrP positivity.   \n",
       "4    5% of perinatal mortality is due to low birth ...   \n",
       "5    A deficiency of vitamin B12 increases blood le...   \n",
       "..                                                 ...   \n",
       "446  Women with a higher birth weight are more like...   \n",
       "447  aPKCz causes tumour enhancement by affecting g...   \n",
       "449   cSMAC formation enhances weak ligand signalling.   \n",
       "450  mTORC2 regulates intracellular cysteine levels...   \n",
       "451  p16INK4A accumulation is  linked to an abnorma...   \n",
       "\n",
       "                                                  text label  \n",
       "0    New opportunities: the use of nanotechnologies...     0  \n",
       "1    Rare Variants Create Synthetic Genome-Wide Ass...     1  \n",
       "3    Prevalent abnormal prion protein in human appe...     1  \n",
       "4    Estimates of global prevalence of childhood un...     0  \n",
       "5    Folic acid improves endothelial function in co...     0  \n",
       "..                                                 ...   ...  \n",
       "446  Intrauterine environments and breast cancer ri...     1  \n",
       "447  Control of Nutrient Stress-Induced Metabolic R...     2  \n",
       "449  The stimulatory potency of T cell antigens is ...     1  \n",
       "450  mTORC2 Regulates Amino Acid Metabolism in Canc...     1  \n",
       "451  Monitoring Tumorigenesis and Senescence In Viv...     0  \n",
       "\n",
       "[322 rows x 3 columns]"
      ]
     },
     "execution_count": 116,
     "metadata": {},
     "output_type": "execute_result"
    }
   ],
   "source": [
    "dataset_valid_df_deduplicated = dataset_valid_df.drop_duplicates()\n",
    "dataset_valid_df_deduplicated"
   ]
  },
  {
   "cell_type": "code",
   "execution_count": 117,
   "id": "e236827e",
   "metadata": {},
   "outputs": [],
   "source": [
    "dataset_valid_final = Dataset.from_pandas(dataset_valid_df_deduplicated)"
   ]
  },
  {
   "cell_type": "code",
   "execution_count": 118,
   "id": "090c508d",
   "metadata": {},
   "outputs": [
    {
     "data": {
      "text/plain": [
       "Dataset({\n",
       "    features: ['claim', 'text', 'label', '__index_level_0__'],\n",
       "    num_rows: 322\n",
       "})"
      ]
     },
     "execution_count": 118,
     "metadata": {},
     "output_type": "execute_result"
    }
   ],
   "source": [
    "dataset_valid_final"
   ]
  },
  {
   "cell_type": "markdown",
   "id": "85418cd5",
   "metadata": {},
   "source": [
    "## Concatenation of transformed and deduplicated TRAIN and VALIDATION subsets into one dataset and making of the new train:valid:test split"
   ]
  },
  {
   "cell_type": "code",
   "execution_count": 120,
   "id": "86ffe8cb",
   "metadata": {},
   "outputs": [
    {
     "data": {
      "text/html": [
       "<div>\n",
       "<style scoped>\n",
       "    .dataframe tbody tr th:only-of-type {\n",
       "        vertical-align: middle;\n",
       "    }\n",
       "\n",
       "    .dataframe tbody tr th {\n",
       "        vertical-align: top;\n",
       "    }\n",
       "\n",
       "    .dataframe thead th {\n",
       "        text-align: right;\n",
       "    }\n",
       "</style>\n",
       "<table border=\"1\" class=\"dataframe\">\n",
       "  <thead>\n",
       "    <tr style=\"text-align: right;\">\n",
       "      <th></th>\n",
       "      <th>claim</th>\n",
       "      <th>text</th>\n",
       "      <th>label</th>\n",
       "    </tr>\n",
       "  </thead>\n",
       "  <tbody>\n",
       "    <tr>\n",
       "      <th>0</th>\n",
       "      <td>0-dimensional biomaterials lack inductive prop...</td>\n",
       "      <td>New opportunities: the use of nanotechnologies...</td>\n",
       "      <td>0</td>\n",
       "    </tr>\n",
       "    <tr>\n",
       "      <th>1</th>\n",
       "      <td>1 in 5 million in UK have abnormal PrP positiv...</td>\n",
       "      <td>Prevalent abnormal prion protein in human appe...</td>\n",
       "      <td>2</td>\n",
       "    </tr>\n",
       "    <tr>\n",
       "      <th>2</th>\n",
       "      <td>1-1% of colorectal cancer patients are diagnos...</td>\n",
       "      <td>Relation between Medicare screening reimbursem...</td>\n",
       "      <td>0</td>\n",
       "    </tr>\n",
       "    <tr>\n",
       "      <th>3</th>\n",
       "      <td>10% of sudden infant death syndrome (SIDS) dea...</td>\n",
       "      <td>Sudden infant death syndrome. Despite declines...</td>\n",
       "      <td>0</td>\n",
       "    </tr>\n",
       "    <tr>\n",
       "      <th>4</th>\n",
       "      <td>32% of liver transplantation programs required...</td>\n",
       "      <td>Liver transplantation and opioid dependence. C...</td>\n",
       "      <td>1</td>\n",
       "    </tr>\n",
       "    <tr>\n",
       "      <th>...</th>\n",
       "      <td>...</td>\n",
       "      <td>...</td>\n",
       "      <td>...</td>\n",
       "    </tr>\n",
       "    <tr>\n",
       "      <th>446</th>\n",
       "      <td>Women with a higher birth weight are more like...</td>\n",
       "      <td>Intrauterine environments and breast cancer ri...</td>\n",
       "      <td>1</td>\n",
       "    </tr>\n",
       "    <tr>\n",
       "      <th>447</th>\n",
       "      <td>aPKCz causes tumour enhancement by affecting g...</td>\n",
       "      <td>Control of Nutrient Stress-Induced Metabolic R...</td>\n",
       "      <td>2</td>\n",
       "    </tr>\n",
       "    <tr>\n",
       "      <th>449</th>\n",
       "      <td>cSMAC formation enhances weak ligand signalling.</td>\n",
       "      <td>The stimulatory potency of T cell antigens is ...</td>\n",
       "      <td>1</td>\n",
       "    </tr>\n",
       "    <tr>\n",
       "      <th>450</th>\n",
       "      <td>mTORC2 regulates intracellular cysteine levels...</td>\n",
       "      <td>mTORC2 Regulates Amino Acid Metabolism in Canc...</td>\n",
       "      <td>1</td>\n",
       "    </tr>\n",
       "    <tr>\n",
       "      <th>451</th>\n",
       "      <td>p16INK4A accumulation is  linked to an abnorma...</td>\n",
       "      <td>Monitoring Tumorigenesis and Senescence In Viv...</td>\n",
       "      <td>0</td>\n",
       "    </tr>\n",
       "  </tbody>\n",
       "</table>\n",
       "<p>1213 rows × 3 columns</p>\n",
       "</div>"
      ],
      "text/plain": [
       "                                                 claim  \\\n",
       "0    0-dimensional biomaterials lack inductive prop...   \n",
       "1    1 in 5 million in UK have abnormal PrP positiv...   \n",
       "2    1-1% of colorectal cancer patients are diagnos...   \n",
       "3    10% of sudden infant death syndrome (SIDS) dea...   \n",
       "4    32% of liver transplantation programs required...   \n",
       "..                                                 ...   \n",
       "446  Women with a higher birth weight are more like...   \n",
       "447  aPKCz causes tumour enhancement by affecting g...   \n",
       "449   cSMAC formation enhances weak ligand signalling.   \n",
       "450  mTORC2 regulates intracellular cysteine levels...   \n",
       "451  p16INK4A accumulation is  linked to an abnorma...   \n",
       "\n",
       "                                                  text label  \n",
       "0    New opportunities: the use of nanotechnologies...     0  \n",
       "1    Prevalent abnormal prion protein in human appe...     2  \n",
       "2    Relation between Medicare screening reimbursem...     0  \n",
       "3    Sudden infant death syndrome. Despite declines...     0  \n",
       "4    Liver transplantation and opioid dependence. C...     1  \n",
       "..                                                 ...   ...  \n",
       "446  Intrauterine environments and breast cancer ri...     1  \n",
       "447  Control of Nutrient Stress-Induced Metabolic R...     2  \n",
       "449  The stimulatory potency of T cell antigens is ...     1  \n",
       "450  mTORC2 Regulates Amino Acid Metabolism in Canc...     1  \n",
       "451  Monitoring Tumorigenesis and Senescence In Viv...     0  \n",
       "\n",
       "[1213 rows x 3 columns]"
      ]
     },
     "execution_count": 120,
     "metadata": {},
     "output_type": "execute_result"
    }
   ],
   "source": [
    "dataset_all = pd.concat([dataset_train_df_deduplicated, dataset_valid_df_deduplicated])\n",
    "dataset_all"
   ]
  },
  {
   "cell_type": "code",
   "execution_count": 125,
   "id": "41727edc",
   "metadata": {},
   "outputs": [
    {
     "name": "stdout",
     "output_type": "stream",
     "text": [
      "242\n"
     ]
    },
    {
     "data": {
      "text/plain": [
       "True"
      ]
     },
     "execution_count": 125,
     "metadata": {},
     "output_type": "execute_result"
    }
   ],
   "source": [
    "df_train = pd.DataFrame()\n",
    "for i in dataset_all.label.unique():\n",
    "    df_train = df_train.append(dataset_all[dataset_all.label == i].sample(frac = 0.8))\n",
    "\n",
    "df_rest = pd.concat([dataset_all, df_train, df_train]).drop_duplicates(keep=False)\n",
    "\n",
    "df_valid = pd.DataFrame()\n",
    "for i in df_rest.label.unique():\n",
    "    df_valid = df_valid.append(df_rest[df_rest.label == i].sample(frac = 0.5))\n",
    "\n",
    "df_test = pd.concat([df_rest, df_valid, df_valid]).drop_duplicates(keep=False)\n",
    "\n",
    "df_train.shape[0] + df_valid.shape[0] + df_test.shape[0] == dataset_all.shape[0]"
   ]
  },
  {
   "cell_type": "code",
   "execution_count": 126,
   "id": "40d42122",
   "metadata": {},
   "outputs": [
    {
     "name": "stdout",
     "output_type": "stream",
     "text": [
      "TRAINsize:  971\n",
      "VALIDsize:  120\n",
      "TESTsize:  122\n"
     ]
    }
   ],
   "source": [
    "print('TRAINsize: ', df_train.shape[0])\n",
    "print('VALIDsize: ', df_valid.shape[0])\n",
    "print('TESTsize: ', df_test.shape[0])"
   ]
  },
  {
   "cell_type": "markdown",
   "id": "78db23e1",
   "metadata": {},
   "source": [
    "### Checking of the label ratio in new train:valid:test subsets"
   ]
  },
  {
   "cell_type": "code",
   "execution_count": 127,
   "id": "2a8e80d5",
   "metadata": {},
   "outputs": [
    {
     "name": "stdout",
     "output_type": "stream",
     "text": [
      "0.36065573770491804 0.4180327868852459 0.22131147540983606\n",
      "0.36666666666666664 0.4166666666666667 0.21666666666666667\n",
      "0.364572605561277 0.41709577754891863 0.21833161688980432\n"
     ]
    }
   ],
   "source": [
    "print(df_test[df_test.label==0].shape[0]/df_test.shape[0], df_test[df_test.label==1].shape[0]/df_test.shape[0], df_test[df_test.label==2].shape[0]/df_test.shape[0])\n",
    "print(df_valid[df_valid.label==0].shape[0]/df_valid.shape[0], df_valid[df_valid.label==1].shape[0]/df_valid.shape[0], df_valid[df_valid.label==2].shape[0]/df_valid.shape[0])\n",
    "print(df_train[df_train.label==0].shape[0]/df_train.shape[0], df_train[df_train.label==1].shape[0]/df_train.shape[0], df_train[df_train.label==2].shape[0]/df_train.shape[0])"
   ]
  },
  {
   "cell_type": "code",
   "execution_count": 128,
   "id": "c478ee08",
   "metadata": {},
   "outputs": [],
   "source": [
    "df_train = df_train.sample(frac = 1).reset_index(drop=True)\n",
    "df_valid = df_valid.sample(frac = 1).reset_index(drop=True)\n",
    "df_test = df_test.sample(frac = 1).reset_index(drop=True)\n",
    "\n",
    "konacno_train = Dataset.from_pandas(df_train)\n",
    "konacno_valid = Dataset.from_pandas(df_valid)\n",
    "konacno_test = Dataset.from_pandas(df_test)"
   ]
  },
  {
   "cell_type": "code",
   "execution_count": 29,
   "id": "5b2e8fc8",
   "metadata": {},
   "outputs": [],
   "source": [
    "df_train.to_csv('./SciFact_train.csv')"
   ]
  },
  {
   "cell_type": "code",
   "execution_count": 30,
   "id": "95f19803",
   "metadata": {},
   "outputs": [],
   "source": [
    "df_valid.to_csv('./SciFact_valid.csv')"
   ]
  },
  {
   "cell_type": "code",
   "execution_count": 31,
   "id": "c2556a49",
   "metadata": {},
   "outputs": [],
   "source": [
    "df_test.to_csv('./SciFact_test.csv')"
   ]
  },
  {
   "cell_type": "code",
   "execution_count": 32,
   "id": "9cf42d5c",
   "metadata": {},
   "outputs": [],
   "source": [
    "df_train.to_pickle('./SciFact_train.pkl', protocol=4)"
   ]
  },
  {
   "cell_type": "code",
   "execution_count": 33,
   "id": "c83d1f5f",
   "metadata": {},
   "outputs": [],
   "source": [
    "df_valid.to_pickle('./SciFact_valid.pkl', protocol=4)"
   ]
  },
  {
   "cell_type": "code",
   "execution_count": 34,
   "id": "ba6d8d65",
   "metadata": {},
   "outputs": [],
   "source": [
    "df_test.to_pickle('./SciFact_test.pkl', protocol=4)"
   ]
  }
 ],
 "metadata": {
  "kernelspec": {
   "display_name": "Python 3 (ipykernel)",
   "language": "python",
   "name": "python3"
  },
  "language_info": {
   "codemirror_mode": {
    "name": "ipython",
    "version": 3
   },
   "file_extension": ".py",
   "mimetype": "text/x-python",
   "name": "python",
   "nbconvert_exporter": "python",
   "pygments_lexer": "ipython3",
   "version": "3.9.12"
  }
 },
 "nbformat": 4,
 "nbformat_minor": 5
}
